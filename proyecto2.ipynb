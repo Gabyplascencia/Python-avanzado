{
 "cells": [
  {
   "cell_type": "markdown",
   "metadata": {},
   "source": [
    "# Proyecto integrado 2"
   ]
  },
  {
   "cell_type": "markdown",
   "metadata": {},
   "source": [
    "**Descripción del proyecto**"
   ]
  },
  {
   "cell_type": "markdown",
   "metadata": {},
   "source": [
    "\n",
    "Trabajas en una empresa emergente que vende productos alimenticios. Debes investigar el comportamiento del usuario para la aplicación de la empresa.\n",
    "\n",
    "Primero, estudia el embudo de ventas. Descubre cómo los usuarios y las usuarias llegan a la etapa de compra. ¿Cuántos usuarios o usuarias realmente llegan a esta etapa? ¿Cuántos se atascan en etapas anteriores? ¿Qué etapas en particular?\n",
    "\n",
    "Luego, observa los resultados de un test A/A/B. (Sigue leyendo para obtener más información sobre los test A/A/B). Al equipo de diseño le gustaría cambiar las fuentes de toda la aplicación, pero la gerencia teme que los usuarios y las usuarias piensen que el nuevo diseño es intimidante. Por ello, deciden tomar una decisión basada en los resultados de un test A/A/B.\n",
    "\n",
    "Los usuarios se dividen en tres grupos: \n",
    "-dos grupos de control obtienen las fuentes antiguas y un grupo de prueba obtiene las nuevas. \n",
    "\n",
    "Descubre qué conjunto de fuentes produce mejores resultados.\n",
    "\n",
    "Crear dos grupos A tiene ciertas ventajas. Podemos establecer el principio de que solo confiaremos en la exactitud de nuestras pruebas cuando los dos grupos de control sean similares. Si hay diferencias significativas entre los grupos A, esto puede ayudarnos a descubrir factores que pueden estar distorsionando los resultados. La comparación de grupos de control también nos dice cuánto tiempo y datos necesitaremos cuando realicemos más tests.\n",
    "\n",
    "Utilizarás el mismo dataset para el análisis general y para el análisis A/A/B. En proyectos reales, los experimentos se llevan a cabo constantemente. El equipo de análisis estudia la calidad de una aplicación utilizando datos generales, sin prestar atención a si los usuarios y las usuarias participan en experimentos."
   ]
  },
  {
   "cell_type": "markdown",
   "metadata": {},
   "source": [
    "# Descripción de los datos"
   ]
  },
  {
   "cell_type": "markdown",
   "metadata": {},
   "source": [
    "**Cada entrada de registro es una acción de usuario o un evento.**\n",
    "\n",
    "EventName: nombre del evento.\n",
    "\n",
    "DeviceIDHash: identificador de usuario unívoco.\n",
    "\n",
    "EventTimestamp: hora del evento.\n",
    "\n",
    "ExpId: número de experimento: 246 y 247 son los grupos de control, 248 es el grupo de prueba.\n"
   ]
  },
  {
   "cell_type": "markdown",
   "metadata": {},
   "source": [
    "# Preparación y limpieza de los datos para el análisis"
   ]
  },
  {
   "cell_type": "markdown",
   "metadata": {},
   "source": [
    "Buscaremos mejorar nuestro data, con la finalidad de tener la informacion este lista para su análisis.\n",
    "\n",
    "Cambiaremos el nombre de las columnas de ser más util para nosotros, corrobaremos que no tengamos valores ausentes o filas duplicadas en nuestro data y corroboraremos que el tipo de datos sea el correcto para todas nuestras columnas, por último de ser necesario se añadirán columnas de ser necesario."
   ]
  },
  {
   "cell_type": "code",
   "execution_count": 1,
   "metadata": {},
   "outputs": [],
   "source": [
    "#cargar las librerias necesarias\n",
    "import pandas as pd\n",
    "import numpy as np\n",
    "import seaborn as sns\n",
    "from matplotlib import pyplot as plt\n",
    "from scipy import stats as st"
   ]
  },
  {
   "cell_type": "code",
   "execution_count": 2,
   "metadata": {},
   "outputs": [],
   "source": [
    "#cargar los archivos\n",
    "data= pd.read_csv(\"/datasets/logs_exp_us.csv\", sep=\"\\t\")"
   ]
  },
  {
   "cell_type": "code",
   "execution_count": 3,
   "metadata": {},
   "outputs": [
    {
     "data": {
      "text/html": [
       "<div>\n",
       "<style scoped>\n",
       "    .dataframe tbody tr th:only-of-type {\n",
       "        vertical-align: middle;\n",
       "    }\n",
       "\n",
       "    .dataframe tbody tr th {\n",
       "        vertical-align: top;\n",
       "    }\n",
       "\n",
       "    .dataframe thead th {\n",
       "        text-align: right;\n",
       "    }\n",
       "</style>\n",
       "<table border=\"1\" class=\"dataframe\">\n",
       "  <thead>\n",
       "    <tr style=\"text-align: right;\">\n",
       "      <th></th>\n",
       "      <th>EventName</th>\n",
       "      <th>DeviceIDHash</th>\n",
       "      <th>EventTimestamp</th>\n",
       "      <th>ExpId</th>\n",
       "    </tr>\n",
       "  </thead>\n",
       "  <tbody>\n",
       "    <tr>\n",
       "      <th>0</th>\n",
       "      <td>MainScreenAppear</td>\n",
       "      <td>4575588528974610257</td>\n",
       "      <td>1564029816</td>\n",
       "      <td>246</td>\n",
       "    </tr>\n",
       "    <tr>\n",
       "      <th>1</th>\n",
       "      <td>MainScreenAppear</td>\n",
       "      <td>7416695313311560658</td>\n",
       "      <td>1564053102</td>\n",
       "      <td>246</td>\n",
       "    </tr>\n",
       "    <tr>\n",
       "      <th>2</th>\n",
       "      <td>PaymentScreenSuccessful</td>\n",
       "      <td>3518123091307005509</td>\n",
       "      <td>1564054127</td>\n",
       "      <td>248</td>\n",
       "    </tr>\n",
       "    <tr>\n",
       "      <th>3</th>\n",
       "      <td>CartScreenAppear</td>\n",
       "      <td>3518123091307005509</td>\n",
       "      <td>1564054127</td>\n",
       "      <td>248</td>\n",
       "    </tr>\n",
       "    <tr>\n",
       "      <th>4</th>\n",
       "      <td>PaymentScreenSuccessful</td>\n",
       "      <td>6217807653094995999</td>\n",
       "      <td>1564055322</td>\n",
       "      <td>248</td>\n",
       "    </tr>\n",
       "    <tr>\n",
       "      <th>...</th>\n",
       "      <td>...</td>\n",
       "      <td>...</td>\n",
       "      <td>...</td>\n",
       "      <td>...</td>\n",
       "    </tr>\n",
       "    <tr>\n",
       "      <th>244121</th>\n",
       "      <td>MainScreenAppear</td>\n",
       "      <td>4599628364049201812</td>\n",
       "      <td>1565212345</td>\n",
       "      <td>247</td>\n",
       "    </tr>\n",
       "    <tr>\n",
       "      <th>244122</th>\n",
       "      <td>MainScreenAppear</td>\n",
       "      <td>5849806612437486590</td>\n",
       "      <td>1565212439</td>\n",
       "      <td>246</td>\n",
       "    </tr>\n",
       "    <tr>\n",
       "      <th>244123</th>\n",
       "      <td>MainScreenAppear</td>\n",
       "      <td>5746969938801999050</td>\n",
       "      <td>1565212483</td>\n",
       "      <td>246</td>\n",
       "    </tr>\n",
       "    <tr>\n",
       "      <th>244124</th>\n",
       "      <td>MainScreenAppear</td>\n",
       "      <td>5746969938801999050</td>\n",
       "      <td>1565212498</td>\n",
       "      <td>246</td>\n",
       "    </tr>\n",
       "    <tr>\n",
       "      <th>244125</th>\n",
       "      <td>OffersScreenAppear</td>\n",
       "      <td>5746969938801999050</td>\n",
       "      <td>1565212517</td>\n",
       "      <td>246</td>\n",
       "    </tr>\n",
       "  </tbody>\n",
       "</table>\n",
       "<p>244126 rows × 4 columns</p>\n",
       "</div>"
      ],
      "text/plain": [
       "                      EventName         DeviceIDHash  EventTimestamp  ExpId\n",
       "0              MainScreenAppear  4575588528974610257      1564029816    246\n",
       "1              MainScreenAppear  7416695313311560658      1564053102    246\n",
       "2       PaymentScreenSuccessful  3518123091307005509      1564054127    248\n",
       "3              CartScreenAppear  3518123091307005509      1564054127    248\n",
       "4       PaymentScreenSuccessful  6217807653094995999      1564055322    248\n",
       "...                         ...                  ...             ...    ...\n",
       "244121         MainScreenAppear  4599628364049201812      1565212345    247\n",
       "244122         MainScreenAppear  5849806612437486590      1565212439    246\n",
       "244123         MainScreenAppear  5746969938801999050      1565212483    246\n",
       "244124         MainScreenAppear  5746969938801999050      1565212498    246\n",
       "244125       OffersScreenAppear  5746969938801999050      1565212517    246\n",
       "\n",
       "[244126 rows x 4 columns]"
      ]
     },
     "execution_count": 3,
     "metadata": {},
     "output_type": "execute_result"
    }
   ],
   "source": [
    "data"
   ]
  },
  {
   "cell_type": "code",
   "execution_count": 4,
   "metadata": {},
   "outputs": [
    {
     "name": "stdout",
     "output_type": "stream",
     "text": [
      "<class 'pandas.core.frame.DataFrame'>\n",
      "RangeIndex: 244126 entries, 0 to 244125\n",
      "Data columns (total 4 columns):\n",
      " #   Column          Non-Null Count   Dtype \n",
      "---  ------          --------------   ----- \n",
      " 0   EventName       244126 non-null  object\n",
      " 1   DeviceIDHash    244126 non-null  int64 \n",
      " 2   EventTimestamp  244126 non-null  int64 \n",
      " 3   ExpId           244126 non-null  int64 \n",
      "dtypes: int64(3), object(1)\n",
      "memory usage: 7.5+ MB\n"
     ]
    }
   ],
   "source": [
    "#manda a llamar info para conocer el tipo de datos que tenemos y analizar si debemos cambiar el tipo de datos\n",
    "data.info()"
   ]
  },
  {
   "cell_type": "code",
   "execution_count": 5,
   "metadata": {},
   "outputs": [
    {
     "data": {
      "text/plain": [
       "Index(['EventName', 'DeviceIDHash', 'EventTimestamp', 'ExpId'], dtype='object')"
      ]
     },
     "execution_count": 5,
     "metadata": {},
     "output_type": "execute_result"
    }
   ],
   "source": [
    "#manda a llamar el nombre de las columnas\n",
    "data.columns"
   ]
  },
  {
   "cell_type": "code",
   "execution_count": 6,
   "metadata": {},
   "outputs": [],
   "source": [
    "#Cambia el nombre de las columnas de manera que sea conveniente para ti\n",
    "data=data.rename(columns={\"EventName\": \"evento\",\"DeviceIDHash\": \"userid\", \"EventTimestamp\": \"hora\", \"ExpId\":\"grupo\"})"
   ]
  },
  {
   "cell_type": "code",
   "execution_count": 7,
   "metadata": {},
   "outputs": [
    {
     "data": {
      "text/html": [
       "<div>\n",
       "<style scoped>\n",
       "    .dataframe tbody tr th:only-of-type {\n",
       "        vertical-align: middle;\n",
       "    }\n",
       "\n",
       "    .dataframe tbody tr th {\n",
       "        vertical-align: top;\n",
       "    }\n",
       "\n",
       "    .dataframe thead th {\n",
       "        text-align: right;\n",
       "    }\n",
       "</style>\n",
       "<table border=\"1\" class=\"dataframe\">\n",
       "  <thead>\n",
       "    <tr style=\"text-align: right;\">\n",
       "      <th></th>\n",
       "      <th>evento</th>\n",
       "      <th>userid</th>\n",
       "      <th>hora</th>\n",
       "      <th>grupo</th>\n",
       "    </tr>\n",
       "  </thead>\n",
       "  <tbody>\n",
       "    <tr>\n",
       "      <th>0</th>\n",
       "      <td>MainScreenAppear</td>\n",
       "      <td>4575588528974610257</td>\n",
       "      <td>1564029816</td>\n",
       "      <td>246</td>\n",
       "    </tr>\n",
       "    <tr>\n",
       "      <th>1</th>\n",
       "      <td>MainScreenAppear</td>\n",
       "      <td>7416695313311560658</td>\n",
       "      <td>1564053102</td>\n",
       "      <td>246</td>\n",
       "    </tr>\n",
       "    <tr>\n",
       "      <th>2</th>\n",
       "      <td>PaymentScreenSuccessful</td>\n",
       "      <td>3518123091307005509</td>\n",
       "      <td>1564054127</td>\n",
       "      <td>248</td>\n",
       "    </tr>\n",
       "    <tr>\n",
       "      <th>3</th>\n",
       "      <td>CartScreenAppear</td>\n",
       "      <td>3518123091307005509</td>\n",
       "      <td>1564054127</td>\n",
       "      <td>248</td>\n",
       "    </tr>\n",
       "    <tr>\n",
       "      <th>4</th>\n",
       "      <td>PaymentScreenSuccessful</td>\n",
       "      <td>6217807653094995999</td>\n",
       "      <td>1564055322</td>\n",
       "      <td>248</td>\n",
       "    </tr>\n",
       "  </tbody>\n",
       "</table>\n",
       "</div>"
      ],
      "text/plain": [
       "                    evento               userid        hora  grupo\n",
       "0         MainScreenAppear  4575588528974610257  1564029816    246\n",
       "1         MainScreenAppear  7416695313311560658  1564053102    246\n",
       "2  PaymentScreenSuccessful  3518123091307005509  1564054127    248\n",
       "3         CartScreenAppear  3518123091307005509  1564054127    248\n",
       "4  PaymentScreenSuccessful  6217807653094995999  1564055322    248"
      ]
     },
     "execution_count": 7,
     "metadata": {},
     "output_type": "execute_result"
    }
   ],
   "source": [
    "#visualiza las primeras filas del data para visualizar los cambios\n",
    "data.head()"
   ]
  },
  {
   "cell_type": "code",
   "execution_count": 8,
   "metadata": {},
   "outputs": [
    {
     "name": "stdout",
     "output_type": "stream",
     "text": [
      "evento    0\n",
      "userid    0\n",
      "hora      0\n",
      "grupo     0\n",
      "dtype: int64\n"
     ]
    }
   ],
   "source": [
    "#buscar valores ausentes\n",
    "print(data.isna().sum())"
   ]
  },
  {
   "cell_type": "code",
   "execution_count": 9,
   "metadata": {},
   "outputs": [
    {
     "name": "stdout",
     "output_type": "stream",
     "text": [
      "413\n"
     ]
    }
   ],
   "source": [
    "#buscar filas duplicadas\n",
    "print(data.duplicated().sum())"
   ]
  },
  {
   "cell_type": "code",
   "execution_count": 10,
   "metadata": {},
   "outputs": [],
   "source": [
    "#eliminar filas duplicadas (0.16% de los datos)\n",
    "data=data.drop_duplicates()"
   ]
  },
  {
   "cell_type": "markdown",
   "metadata": {},
   "source": [
    "Se calcula  se define que el total de filas duplicadas (413) representan un 0.16% del total de filas que representa el data, por lo que no afectaría borrarlas, además de qu es necesario ya que solo traerá datos falsos a las pruebas, al ser duplicados  no datos auténticos"
   ]
  },
  {
   "cell_type": "code",
   "execution_count": 11,
   "metadata": {},
   "outputs": [
    {
     "name": "stdout",
     "output_type": "stream",
     "text": [
      "0\n"
     ]
    }
   ],
   "source": [
    "#corroborar filas duplicadas\n",
    "print(data.duplicated().sum())"
   ]
  },
  {
   "cell_type": "code",
   "execution_count": 12,
   "metadata": {},
   "outputs": [
    {
     "name": "stdout",
     "output_type": "stream",
     "text": [
      "<class 'pandas.core.frame.DataFrame'>\n",
      "Int64Index: 243713 entries, 0 to 244125\n",
      "Data columns (total 4 columns):\n",
      " #   Column  Non-Null Count   Dtype \n",
      "---  ------  --------------   ----- \n",
      " 0   evento  243713 non-null  object\n",
      " 1   userid  243713 non-null  int64 \n",
      " 2   hora    243713 non-null  int64 \n",
      " 3   grupo   243713 non-null  int64 \n",
      "dtypes: int64(3), object(1)\n",
      "memory usage: 9.3+ MB\n"
     ]
    }
   ],
   "source": [
    "#manda a visualizar info para corroborar las filas eliminadas\n",
    "data.info()"
   ]
  },
  {
   "cell_type": "code",
   "execution_count": 13,
   "metadata": {},
   "outputs": [
    {
     "data": {
      "text/html": [
       "<div>\n",
       "<style scoped>\n",
       "    .dataframe tbody tr th:only-of-type {\n",
       "        vertical-align: middle;\n",
       "    }\n",
       "\n",
       "    .dataframe tbody tr th {\n",
       "        vertical-align: top;\n",
       "    }\n",
       "\n",
       "    .dataframe thead th {\n",
       "        text-align: right;\n",
       "    }\n",
       "</style>\n",
       "<table border=\"1\" class=\"dataframe\">\n",
       "  <thead>\n",
       "    <tr style=\"text-align: right;\">\n",
       "      <th></th>\n",
       "      <th>evento</th>\n",
       "      <th>userid</th>\n",
       "      <th>hora</th>\n",
       "      <th>grupo</th>\n",
       "    </tr>\n",
       "  </thead>\n",
       "  <tbody>\n",
       "    <tr>\n",
       "      <th>0</th>\n",
       "      <td>MainScreenAppear</td>\n",
       "      <td>4575588528974610257</td>\n",
       "      <td>1564029816</td>\n",
       "      <td>246</td>\n",
       "    </tr>\n",
       "    <tr>\n",
       "      <th>1</th>\n",
       "      <td>MainScreenAppear</td>\n",
       "      <td>7416695313311560658</td>\n",
       "      <td>1564053102</td>\n",
       "      <td>246</td>\n",
       "    </tr>\n",
       "    <tr>\n",
       "      <th>2</th>\n",
       "      <td>PaymentScreenSuccessful</td>\n",
       "      <td>3518123091307005509</td>\n",
       "      <td>1564054127</td>\n",
       "      <td>248</td>\n",
       "    </tr>\n",
       "    <tr>\n",
       "      <th>3</th>\n",
       "      <td>CartScreenAppear</td>\n",
       "      <td>3518123091307005509</td>\n",
       "      <td>1564054127</td>\n",
       "      <td>248</td>\n",
       "    </tr>\n",
       "    <tr>\n",
       "      <th>4</th>\n",
       "      <td>PaymentScreenSuccessful</td>\n",
       "      <td>6217807653094995999</td>\n",
       "      <td>1564055322</td>\n",
       "      <td>248</td>\n",
       "    </tr>\n",
       "  </tbody>\n",
       "</table>\n",
       "</div>"
      ],
      "text/plain": [
       "                    evento               userid        hora  grupo\n",
       "0         MainScreenAppear  4575588528974610257  1564029816    246\n",
       "1         MainScreenAppear  7416695313311560658  1564053102    246\n",
       "2  PaymentScreenSuccessful  3518123091307005509  1564054127    248\n",
       "3         CartScreenAppear  3518123091307005509  1564054127    248\n",
       "4  PaymentScreenSuccessful  6217807653094995999  1564055322    248"
      ]
     },
     "execution_count": 13,
     "metadata": {},
     "output_type": "execute_result"
    }
   ],
   "source": [
    "data.head()"
   ]
  },
  {
   "cell_type": "code",
   "execution_count": 14,
   "metadata": {},
   "outputs": [],
   "source": [
    "#cambiar el tipo de dato a datetime de la columna hora\n",
    "data[\"fecha_y_hora\"]=pd.to_datetime(data[\"hora\"], unit=\"s\")"
   ]
  },
  {
   "cell_type": "code",
   "execution_count": 15,
   "metadata": {},
   "outputs": [],
   "source": [
    "##Agrega una columna de fecha y hora y una columna separada para las fechas\n",
    "data[\"fecha\"]= data[\"fecha_y_hora\"].dt.date"
   ]
  },
  {
   "cell_type": "code",
   "execution_count": 16,
   "metadata": {},
   "outputs": [],
   "source": [
    "data[\"fecha\"]=pd.to_datetime(data[\"fecha\"] , format=\"%Y-%m-%d\")"
   ]
  },
  {
   "cell_type": "code",
   "execution_count": 17,
   "metadata": {},
   "outputs": [
    {
     "data": {
      "text/html": [
       "<div>\n",
       "<style scoped>\n",
       "    .dataframe tbody tr th:only-of-type {\n",
       "        vertical-align: middle;\n",
       "    }\n",
       "\n",
       "    .dataframe tbody tr th {\n",
       "        vertical-align: top;\n",
       "    }\n",
       "\n",
       "    .dataframe thead th {\n",
       "        text-align: right;\n",
       "    }\n",
       "</style>\n",
       "<table border=\"1\" class=\"dataframe\">\n",
       "  <thead>\n",
       "    <tr style=\"text-align: right;\">\n",
       "      <th></th>\n",
       "      <th>evento</th>\n",
       "      <th>userid</th>\n",
       "      <th>hora</th>\n",
       "      <th>grupo</th>\n",
       "      <th>fecha_y_hora</th>\n",
       "      <th>fecha</th>\n",
       "    </tr>\n",
       "  </thead>\n",
       "  <tbody>\n",
       "    <tr>\n",
       "      <th>0</th>\n",
       "      <td>MainScreenAppear</td>\n",
       "      <td>4575588528974610257</td>\n",
       "      <td>1564029816</td>\n",
       "      <td>246</td>\n",
       "      <td>2019-07-25 04:43:36</td>\n",
       "      <td>2019-07-25</td>\n",
       "    </tr>\n",
       "    <tr>\n",
       "      <th>1</th>\n",
       "      <td>MainScreenAppear</td>\n",
       "      <td>7416695313311560658</td>\n",
       "      <td>1564053102</td>\n",
       "      <td>246</td>\n",
       "      <td>2019-07-25 11:11:42</td>\n",
       "      <td>2019-07-25</td>\n",
       "    </tr>\n",
       "    <tr>\n",
       "      <th>2</th>\n",
       "      <td>PaymentScreenSuccessful</td>\n",
       "      <td>3518123091307005509</td>\n",
       "      <td>1564054127</td>\n",
       "      <td>248</td>\n",
       "      <td>2019-07-25 11:28:47</td>\n",
       "      <td>2019-07-25</td>\n",
       "    </tr>\n",
       "    <tr>\n",
       "      <th>3</th>\n",
       "      <td>CartScreenAppear</td>\n",
       "      <td>3518123091307005509</td>\n",
       "      <td>1564054127</td>\n",
       "      <td>248</td>\n",
       "      <td>2019-07-25 11:28:47</td>\n",
       "      <td>2019-07-25</td>\n",
       "    </tr>\n",
       "    <tr>\n",
       "      <th>4</th>\n",
       "      <td>PaymentScreenSuccessful</td>\n",
       "      <td>6217807653094995999</td>\n",
       "      <td>1564055322</td>\n",
       "      <td>248</td>\n",
       "      <td>2019-07-25 11:48:42</td>\n",
       "      <td>2019-07-25</td>\n",
       "    </tr>\n",
       "  </tbody>\n",
       "</table>\n",
       "</div>"
      ],
      "text/plain": [
       "                    evento               userid        hora  grupo  \\\n",
       "0         MainScreenAppear  4575588528974610257  1564029816    246   \n",
       "1         MainScreenAppear  7416695313311560658  1564053102    246   \n",
       "2  PaymentScreenSuccessful  3518123091307005509  1564054127    248   \n",
       "3         CartScreenAppear  3518123091307005509  1564054127    248   \n",
       "4  PaymentScreenSuccessful  6217807653094995999  1564055322    248   \n",
       "\n",
       "         fecha_y_hora      fecha  \n",
       "0 2019-07-25 04:43:36 2019-07-25  \n",
       "1 2019-07-25 11:11:42 2019-07-25  \n",
       "2 2019-07-25 11:28:47 2019-07-25  \n",
       "3 2019-07-25 11:28:47 2019-07-25  \n",
       "4 2019-07-25 11:48:42 2019-07-25  "
      ]
     },
     "execution_count": 17,
     "metadata": {},
     "output_type": "execute_result"
    }
   ],
   "source": [
    "#visualizar los cambios\n",
    "data.head()"
   ]
  },
  {
   "cell_type": "code",
   "execution_count": 18,
   "metadata": {},
   "outputs": [
    {
     "name": "stdout",
     "output_type": "stream",
     "text": [
      "<class 'pandas.core.frame.DataFrame'>\n",
      "Int64Index: 243713 entries, 0 to 244125\n",
      "Data columns (total 6 columns):\n",
      " #   Column        Non-Null Count   Dtype         \n",
      "---  ------        --------------   -----         \n",
      " 0   evento        243713 non-null  object        \n",
      " 1   userid        243713 non-null  int64         \n",
      " 2   hora          243713 non-null  int64         \n",
      " 3   grupo         243713 non-null  int64         \n",
      " 4   fecha_y_hora  243713 non-null  datetime64[ns]\n",
      " 5   fecha         243713 non-null  datetime64[ns]\n",
      "dtypes: datetime64[ns](2), int64(3), object(1)\n",
      "memory usage: 13.0+ MB\n"
     ]
    }
   ],
   "source": [
    "data.info()"
   ]
  },
  {
   "cell_type": "markdown",
   "metadata": {},
   "source": [
    "# Estudio y comprobación de los datos"
   ]
  },
  {
   "cell_type": "markdown",
   "metadata": {},
   "source": [
    "Para esta parte estudiaremos el embudo de ventas de la empresa. \n",
    "\n",
    "Nuestra tarea es descubrir cómo los usuarios y las usuarias llegan a la etapa de compra siguientes. ¿Cuántos usuarios realmente llegan a esta etapa? ¿Cuántos se atascan en etapas anteriores? ¿Qué etapas en particular están presentando problemas?\n",
    "\n",
    "Con el objetivo de entender como esta tomando la gente nuestra empresa y en que etapas podemos mejorar para mejorar las ventas posteriormente."
   ]
  },
  {
   "cell_type": "code",
   "execution_count": 19,
   "metadata": {},
   "outputs": [
    {
     "data": {
      "text/plain": [
       "array(['MainScreenAppear', 'PaymentScreenSuccessful', 'CartScreenAppear',\n",
       "       'OffersScreenAppear', 'Tutorial'], dtype=object)"
      ]
     },
     "execution_count": 19,
     "metadata": {},
     "output_type": "execute_result"
    }
   ],
   "source": [
    "#¿Cuántos eventos hay en los registros?\n",
    "#uso de unique para conocer el número de eventos existentes\n",
    "events=data[\"evento\"].unique()\n",
    "events"
   ]
  },
  {
   "cell_type": "code",
   "execution_count": 20,
   "metadata": {},
   "outputs": [
    {
     "data": {
      "text/plain": [
       "userid    7551\n",
       "dtype: int64"
      ]
     },
     "execution_count": 20,
     "metadata": {},
     "output_type": "execute_result"
    }
   ],
   "source": [
    "#¿Cuántos usuarios y usuarias hay en los registros?\n",
    "#busca la cantidad de id únicos existentes en todo el data\n",
    "total_users=data.agg({\"userid\":\"nunique\"})\n",
    "total_users"
   ]
  },
  {
   "cell_type": "code",
   "execution_count": 21,
   "metadata": {},
   "outputs": [
    {
     "data": {
      "text/html": [
       "<div>\n",
       "<style scoped>\n",
       "    .dataframe tbody tr th:only-of-type {\n",
       "        vertical-align: middle;\n",
       "    }\n",
       "\n",
       "    .dataframe tbody tr th {\n",
       "        vertical-align: top;\n",
       "    }\n",
       "\n",
       "    .dataframe thead th {\n",
       "        text-align: right;\n",
       "    }\n",
       "</style>\n",
       "<table border=\"1\" class=\"dataframe\">\n",
       "  <thead>\n",
       "    <tr style=\"text-align: right;\">\n",
       "      <th></th>\n",
       "      <th>evento</th>\n",
       "    </tr>\n",
       "    <tr>\n",
       "      <th>userid</th>\n",
       "      <th></th>\n",
       "    </tr>\n",
       "  </thead>\n",
       "  <tbody>\n",
       "    <tr>\n",
       "      <th>6888746892508752</th>\n",
       "      <td>1</td>\n",
       "    </tr>\n",
       "    <tr>\n",
       "      <th>6909561520679493</th>\n",
       "      <td>5</td>\n",
       "    </tr>\n",
       "    <tr>\n",
       "      <th>6922444491712477</th>\n",
       "      <td>47</td>\n",
       "    </tr>\n",
       "    <tr>\n",
       "      <th>7435777799948366</th>\n",
       "      <td>6</td>\n",
       "    </tr>\n",
       "    <tr>\n",
       "      <th>7702139951469979</th>\n",
       "      <td>137</td>\n",
       "    </tr>\n",
       "    <tr>\n",
       "      <th>...</th>\n",
       "      <td>...</td>\n",
       "    </tr>\n",
       "    <tr>\n",
       "      <th>9217594193087726423</th>\n",
       "      <td>9</td>\n",
       "    </tr>\n",
       "    <tr>\n",
       "      <th>9219463515465815368</th>\n",
       "      <td>17</td>\n",
       "    </tr>\n",
       "    <tr>\n",
       "      <th>9220879493065341500</th>\n",
       "      <td>7</td>\n",
       "    </tr>\n",
       "    <tr>\n",
       "      <th>9221926045299980007</th>\n",
       "      <td>7</td>\n",
       "    </tr>\n",
       "    <tr>\n",
       "      <th>9222603179720523844</th>\n",
       "      <td>59</td>\n",
       "    </tr>\n",
       "  </tbody>\n",
       "</table>\n",
       "<p>7551 rows × 1 columns</p>\n",
       "</div>"
      ],
      "text/plain": [
       "                     evento\n",
       "userid                     \n",
       "6888746892508752          1\n",
       "6909561520679493          5\n",
       "6922444491712477         47\n",
       "7435777799948366          6\n",
       "7702139951469979        137\n",
       "...                     ...\n",
       "9217594193087726423       9\n",
       "9219463515465815368      17\n",
       "9220879493065341500       7\n",
       "9221926045299980007       7\n",
       "9222603179720523844      59\n",
       "\n",
       "[7551 rows x 1 columns]"
      ]
     },
     "execution_count": 21,
     "metadata": {},
     "output_type": "execute_result"
    }
   ],
   "source": [
    "#¿Cuál es el promedio de eventos por usuario?\n",
    "event_per_user= data.groupby(\"userid\").agg({\"evento\":\"count\"})\n",
    "event_per_user\n"
   ]
  },
  {
   "cell_type": "code",
   "execution_count": 22,
   "metadata": {},
   "outputs": [
    {
     "name": "stdout",
     "output_type": "stream",
     "text": [
      "evento    32.275593\n",
      "dtype: float64\n"
     ]
    }
   ],
   "source": [
    "#calcular la media de los eventos por usuario \n",
    "print(event_per_user.mean())"
   ]
  },
  {
   "cell_type": "code",
   "execution_count": 23,
   "metadata": {},
   "outputs": [
    {
     "name": "stdout",
     "output_type": "stream",
     "text": [
      "Fecha máxima es: 2019-08-07 00:00:00\n",
      "Fecha mínima es: 2019-07-25 00:00:00\n"
     ]
    }
   ],
   "source": [
    "#¿Qué periodo de tiempo cubren los datos? \n",
    "\n",
    "#Encuentra la fecha máxima y mínima. \n",
    "\n",
    "max=data[\"fecha\"].max()\n",
    "min=data[\"fecha\"].min()\n",
    "\n",
    "print(\"Fecha máxima es:\", max)\n",
    "print(\"Fecha mínima es:\", min)"
   ]
  },
  {
   "cell_type": "code",
   "execution_count": 24,
   "metadata": {},
   "outputs": [
    {
     "data": {
      "image/png": "[encoded data removed]",
      "text/plain": [
       "<Figure size 2000x500 with 1 Axes>"
      ]
     },
     "metadata": {},
     "output_type": "display_data"
    }
   ],
   "source": [
    "#Traza un histograma por fecha y hora. \n",
    "\n",
    "data.hist(column=\"fecha\", bins=30, color=\"hotpink\", figsize=[20,5])\n",
    "plt.show()"
   ]
  },
  {
   "cell_type": "code",
   "execution_count": 25,
   "metadata": {},
   "outputs": [
    {
     "data": {
      "text/html": [
       "<div>\n",
       "<style scoped>\n",
       "    .dataframe tbody tr th:only-of-type {\n",
       "        vertical-align: middle;\n",
       "    }\n",
       "\n",
       "    .dataframe tbody tr th {\n",
       "        vertical-align: top;\n",
       "    }\n",
       "\n",
       "    .dataframe thead th {\n",
       "        text-align: right;\n",
       "    }\n",
       "</style>\n",
       "<table border=\"1\" class=\"dataframe\">\n",
       "  <thead>\n",
       "    <tr style=\"text-align: right;\">\n",
       "      <th></th>\n",
       "      <th>evento</th>\n",
       "      <th>userid</th>\n",
       "      <th>hora</th>\n",
       "      <th>grupo</th>\n",
       "      <th>fecha_y_hora</th>\n",
       "      <th>fecha</th>\n",
       "    </tr>\n",
       "  </thead>\n",
       "  <tbody>\n",
       "    <tr>\n",
       "      <th>2828</th>\n",
       "      <td>Tutorial</td>\n",
       "      <td>3737462046622621720</td>\n",
       "      <td>1564618048</td>\n",
       "      <td>246</td>\n",
       "      <td>2019-08-01 00:07:28</td>\n",
       "      <td>2019-08-01</td>\n",
       "    </tr>\n",
       "    <tr>\n",
       "      <th>2829</th>\n",
       "      <td>MainScreenAppear</td>\n",
       "      <td>3737462046622621720</td>\n",
       "      <td>1564618080</td>\n",
       "      <td>246</td>\n",
       "      <td>2019-08-01 00:08:00</td>\n",
       "      <td>2019-08-01</td>\n",
       "    </tr>\n",
       "    <tr>\n",
       "      <th>2830</th>\n",
       "      <td>MainScreenAppear</td>\n",
       "      <td>3737462046622621720</td>\n",
       "      <td>1564618135</td>\n",
       "      <td>246</td>\n",
       "      <td>2019-08-01 00:08:55</td>\n",
       "      <td>2019-08-01</td>\n",
       "    </tr>\n",
       "    <tr>\n",
       "      <th>2831</th>\n",
       "      <td>OffersScreenAppear</td>\n",
       "      <td>3737462046622621720</td>\n",
       "      <td>1564618138</td>\n",
       "      <td>246</td>\n",
       "      <td>2019-08-01 00:08:58</td>\n",
       "      <td>2019-08-01</td>\n",
       "    </tr>\n",
       "    <tr>\n",
       "      <th>2832</th>\n",
       "      <td>MainScreenAppear</td>\n",
       "      <td>1433840883824088890</td>\n",
       "      <td>1564618139</td>\n",
       "      <td>247</td>\n",
       "      <td>2019-08-01 00:08:59</td>\n",
       "      <td>2019-08-01</td>\n",
       "    </tr>\n",
       "    <tr>\n",
       "      <th>...</th>\n",
       "      <td>...</td>\n",
       "      <td>...</td>\n",
       "      <td>...</td>\n",
       "      <td>...</td>\n",
       "      <td>...</td>\n",
       "      <td>...</td>\n",
       "    </tr>\n",
       "    <tr>\n",
       "      <th>244121</th>\n",
       "      <td>MainScreenAppear</td>\n",
       "      <td>4599628364049201812</td>\n",
       "      <td>1565212345</td>\n",
       "      <td>247</td>\n",
       "      <td>2019-08-07 21:12:25</td>\n",
       "      <td>2019-08-07</td>\n",
       "    </tr>\n",
       "    <tr>\n",
       "      <th>244122</th>\n",
       "      <td>MainScreenAppear</td>\n",
       "      <td>5849806612437486590</td>\n",
       "      <td>1565212439</td>\n",
       "      <td>246</td>\n",
       "      <td>2019-08-07 21:13:59</td>\n",
       "      <td>2019-08-07</td>\n",
       "    </tr>\n",
       "    <tr>\n",
       "      <th>244123</th>\n",
       "      <td>MainScreenAppear</td>\n",
       "      <td>5746969938801999050</td>\n",
       "      <td>1565212483</td>\n",
       "      <td>246</td>\n",
       "      <td>2019-08-07 21:14:43</td>\n",
       "      <td>2019-08-07</td>\n",
       "    </tr>\n",
       "    <tr>\n",
       "      <th>244124</th>\n",
       "      <td>MainScreenAppear</td>\n",
       "      <td>5746969938801999050</td>\n",
       "      <td>1565212498</td>\n",
       "      <td>246</td>\n",
       "      <td>2019-08-07 21:14:58</td>\n",
       "      <td>2019-08-07</td>\n",
       "    </tr>\n",
       "    <tr>\n",
       "      <th>244125</th>\n",
       "      <td>OffersScreenAppear</td>\n",
       "      <td>5746969938801999050</td>\n",
       "      <td>1565212517</td>\n",
       "      <td>246</td>\n",
       "      <td>2019-08-07 21:15:17</td>\n",
       "      <td>2019-08-07</td>\n",
       "    </tr>\n",
       "  </tbody>\n",
       "</table>\n",
       "<p>240887 rows × 6 columns</p>\n",
       "</div>"
      ],
      "text/plain": [
       "                    evento               userid        hora  grupo  \\\n",
       "2828              Tutorial  3737462046622621720  1564618048    246   \n",
       "2829      MainScreenAppear  3737462046622621720  1564618080    246   \n",
       "2830      MainScreenAppear  3737462046622621720  1564618135    246   \n",
       "2831    OffersScreenAppear  3737462046622621720  1564618138    246   \n",
       "2832      MainScreenAppear  1433840883824088890  1564618139    247   \n",
       "...                    ...                  ...         ...    ...   \n",
       "244121    MainScreenAppear  4599628364049201812  1565212345    247   \n",
       "244122    MainScreenAppear  5849806612437486590  1565212439    246   \n",
       "244123    MainScreenAppear  5746969938801999050  1565212483    246   \n",
       "244124    MainScreenAppear  5746969938801999050  1565212498    246   \n",
       "244125  OffersScreenAppear  5746969938801999050  1565212517    246   \n",
       "\n",
       "              fecha_y_hora      fecha  \n",
       "2828   2019-08-01 00:07:28 2019-08-01  \n",
       "2829   2019-08-01 00:08:00 2019-08-01  \n",
       "2830   2019-08-01 00:08:55 2019-08-01  \n",
       "2831   2019-08-01 00:08:58 2019-08-01  \n",
       "2832   2019-08-01 00:08:59 2019-08-01  \n",
       "...                    ...        ...  \n",
       "244121 2019-08-07 21:12:25 2019-08-07  \n",
       "244122 2019-08-07 21:13:59 2019-08-07  \n",
       "244123 2019-08-07 21:14:43 2019-08-07  \n",
       "244124 2019-08-07 21:14:58 2019-08-07  \n",
       "244125 2019-08-07 21:15:17 2019-08-07  \n",
       "\n",
       "[240887 rows x 6 columns]"
      ]
     },
     "execution_count": 25,
     "metadata": {},
     "output_type": "execute_result"
    }
   ],
   "source": [
    "#¿Puedes tener seguridad de que tienes datos igualmente completos para todo el periodo? \n",
    "#Los eventos más antiguos podrían terminar en los registros de algunos usuarios o usuarias por razones técnicas \n",
    "#y esto podría sesgar el panorama general. \n",
    "#Encuentra el momento en el que los datos comienzan a estar completos e ignora la sección anterior.\n",
    "fildata=data[data[\"fecha\"]>=\"2019-08-01\"]\n",
    "fildata\n"
   ]
  },
  {
   "cell_type": "markdown",
   "metadata": {},
   "source": [
    "**¿Qué periodo representan realmente los datos?**\n",
    "\n",
    "Nuestros datos representan únicamente un perido de 12 días, de los cuales eliminaremos los primeros 5, ya que no nos otorgan una cantidad significativa de datos completos."
   ]
  },
  {
   "cell_type": "code",
   "execution_count": 26,
   "metadata": {},
   "outputs": [
    {
     "data": {
      "text/plain": [
       "userid    7534\n",
       "dtype: int64"
      ]
     },
     "execution_count": 26,
     "metadata": {},
     "output_type": "execute_result"
    }
   ],
   "source": [
    "#¿Perdiste muchos eventos y usuarios al excluir los datos más antiguos?\n",
    "\n",
    "total_users2=fildata.agg({\"userid\":\"nunique\"})\n",
    "total_users2"
   ]
  },
  {
   "cell_type": "code",
   "execution_count": 27,
   "metadata": {},
   "outputs": [
    {
     "data": {
      "text/plain": [
       "userid    17\n",
       "dtype: int64"
      ]
     },
     "execution_count": 27,
     "metadata": {},
     "output_type": "execute_result"
    }
   ],
   "source": [
    "final_users=total_users - total_users2\n",
    "final_users"
   ]
  },
  {
   "cell_type": "code",
   "execution_count": 28,
   "metadata": {},
   "outputs": [
    {
     "name": "stdout",
     "output_type": "stream",
     "text": [
      "       userid\n",
      "grupo        \n",
      "246      2484\n",
      "247      2513\n",
      "248      2537\n"
     ]
    }
   ],
   "source": [
    "#Asegúrate de tener usuarios y usuarias de los tres grupos experimentales.\n",
    "print(fildata.groupby(\"grupo\").agg({\"userid\":\"nunique\"}))"
   ]
  },
  {
   "cell_type": "markdown",
   "metadata": {},
   "source": [
    "# Estudiar el embudo de eventos"
   ]
  },
  {
   "cell_type": "markdown",
   "metadata": {},
   "source": [
    "Ahora observaremos los resultados de un test A/A/B. \n",
    "\n",
    "Al equipo de diseño le gustaría cambiar las fuentes de toda la aplicación, pero la gerencia teme que los usuarios y las usuarias piensen que el nuevo diseño es intimidante. Por ello, deciden tomar una decisión basada en los resultados de un test A/A/B.\n",
    "\n",
    "Es importante tener en cuenta: los usuarios se dividen en 3 grupos: \n",
    "\n",
    "-2 grupos de control obtienen las fuentes antiguas.\n",
    "\n",
    "-1 grupo de prueba obtiene el nuevo diseño. \n",
    "\n",
    "Nuestra tarea es descubrir qué conjunto de fuentes produce mejores resultados."
   ]
  },
  {
   "cell_type": "code",
   "execution_count": 29,
   "metadata": {},
   "outputs": [
    {
     "name": "stdout",
     "output_type": "stream",
     "text": [
      "                         userid\n",
      "evento                         \n",
      "MainScreenAppear         117328\n",
      "OffersScreenAppear        46333\n",
      "CartScreenAppear          42303\n",
      "PaymentScreenSuccessful   33918\n",
      "Tutorial                   1005\n"
     ]
    }
   ],
   "source": [
    "#Observa qué eventos hay en los registros y su frecuencia de suceso. Ordénalos por frecuencia.\n",
    "\n",
    "event_count=fildata.groupby(\"evento\").agg({\"userid\":\"count\"}) #agrupa por evento, se cuenta el número de ocasiones que se repite\n",
    "print(event_count.sort_values(by=\"userid\", ascending=False)) #muestra y ordena forma descentente\n"
   ]
  },
  {
   "cell_type": "code",
   "execution_count": 30,
   "metadata": {},
   "outputs": [
    {
     "data": {
      "image/png": "[encoded data removed]",
      "text/plain": [
       "<Figure size 640x480 with 1 Axes>"
      ]
     },
     "metadata": {},
     "output_type": "display_data"
    }
   ],
   "source": [
    "#graficar resultados\n",
    "event_count.plot(kind=\"bar\", color=\"hotpink\", label=\"Total de usuarios\")\n",
    "\n",
    "plt.show()"
   ]
  },
  {
   "cell_type": "code",
   "execution_count": 31,
   "metadata": {},
   "outputs": [
    {
     "name": "stdout",
     "output_type": "stream",
     "text": [
      "                         userid\n",
      "evento                         \n",
      "MainScreenAppear           7419\n",
      "OffersScreenAppear         4593\n",
      "CartScreenAppear           3734\n",
      "PaymentScreenSuccessful    3539\n",
      "Tutorial                    840\n"
     ]
    }
   ],
   "source": [
    "#Encuentra la cantidad de usuarios y usuarias que realizaron cada una de estas acciones. \n",
    "#Ordena los eventos por el número de usuarios y usuarias. \n",
    "\n",
    "users_per_event_count=fildata.groupby(\"evento\").agg({\"userid\":\"nunique\"})\n",
    "print(users_per_event_count.sort_values(by=\"userid\", ascending=False))\n"
   ]
  },
  {
   "cell_type": "code",
   "execution_count": 32,
   "metadata": {},
   "outputs": [
    {
     "data": {
      "image/png": "[encoded data removed]",
      "text/plain": [
       "<Figure size 640x480 with 1 Axes>"
      ]
     },
     "metadata": {},
     "output_type": "display_data"
    }
   ],
   "source": [
    "#graficar resultados\n",
    "users_per_event_count.plot(kind=\"bar\", color=\"hotpink\", label=\"Total de usuarios\")\n",
    "\n",
    "plt.show()"
   ]
  },
  {
   "cell_type": "code",
   "execution_count": 33,
   "metadata": {},
   "outputs": [
    {
     "name": "stdout",
     "output_type": "stream",
     "text": [
      "                         userid\n",
      "evento                         \n",
      "MainScreenAppear           7419\n",
      "OffersScreenAppear         4593\n",
      "CartScreenAppear           3734\n",
      "PaymentScreenSuccessful    3539\n",
      "Tutorial                    840\n"
     ]
    }
   ],
   "source": [
    "#¿En qué orden crees que ocurrieron las acciones? \n",
    "#¿Todas son parte de una sola secuencia? No es necesario tenerlas en cuenta al calcular el embudo.\n",
    "\n",
    "print(users_per_event_count.sort_values(by=\"userid\", ascending=False))"
   ]
  },
  {
   "cell_type": "code",
   "execution_count": 34,
   "metadata": {},
   "outputs": [
    {
     "name": "stdout",
     "output_type": "stream",
     "text": [
      "evento           CartScreenAppear MainScreenAppear OffersScreenAppear  \\\n",
      "userid                                                                  \n",
      "6888746892508752              NaT       2019-08-06                NaT   \n",
      "6909561520679493       2019-08-06       2019-08-06         2019-08-06   \n",
      "6922444491712477       2019-08-04       2019-08-04         2019-08-04   \n",
      "7435777799948366              NaT       2019-08-05                NaT   \n",
      "7702139951469979       2019-08-02       2019-08-01         2019-08-01   \n",
      "\n",
      "evento           PaymentScreenSuccessful Tutorial  \n",
      "userid                                             \n",
      "6888746892508752                     NaT      NaT  \n",
      "6909561520679493              2019-08-06      NaT  \n",
      "6922444491712477              2019-08-04      NaT  \n",
      "7435777799948366                     NaT      NaT  \n",
      "7702139951469979              2019-08-02      NaT  \n"
     ]
    }
   ],
   "source": [
    "#crea una cohorte con la 1er fecha de cada acción de los usuarios\n",
    "users = fildata.pivot_table(\n",
    "    index='userid', \n",
    "    columns='evento', \n",
    "    values='fecha',\n",
    "    aggfunc='min')\n",
    "print(users.head())"
   ]
  },
  {
   "cell_type": "code",
   "execution_count": 35,
   "metadata": {},
   "outputs": [
    {
     "name": "stdout",
     "output_type": "stream",
     "text": [
      "Visitantes: 7419\n",
      "Vio ofertas: 688\n",
      "Carrito de pago: 33\n",
      "Pagado: 1\n",
      "Tutorial: 0\n"
     ]
    }
   ],
   "source": [
    "#se busca encontrar el orden que se cree siguen los usuarios\n",
    "step_1 = ~users['MainScreenAppear'].isna()\n",
    "step_2 = step_1 & (users['OffersScreenAppear'] > users['MainScreenAppear'])\n",
    "step_3 = step_2 & (users['CartScreenAppear'] > users['OffersScreenAppear'])\n",
    "step_4 = step_3 & (users['PaymentScreenSuccessful'] > users['CartScreenAppear'])\n",
    "step_5 = step_3 & (users['Tutorial'] > users['PaymentScreenSuccessful'])\n",
    "\n",
    "n_pageview = users[step_1].shape[0]\n",
    "n_offers = users[step_2].shape[0]\n",
    "n_checkout = users[step_3].shape[0]\n",
    "n_payment = users[step_4].shape[0]\n",
    "n_tutorial = users[step_5].shape[0]\n",
    "\n",
    "print('Visitantes:', n_pageview)\n",
    "print('Vio ofertas:', n_offers)\n",
    "print('Carrito de pago:', n_checkout)\n",
    "print('Pagado:', n_payment)\n",
    "print('Tutorial:', n_tutorial)"
   ]
  },
  {
   "cell_type": "code",
   "execution_count": 36,
   "metadata": {},
   "outputs": [
    {
     "data": {
      "text/html": [
       "<div>\n",
       "<style scoped>\n",
       "    .dataframe tbody tr th:only-of-type {\n",
       "        vertical-align: middle;\n",
       "    }\n",
       "\n",
       "    .dataframe tbody tr th {\n",
       "        vertical-align: top;\n",
       "    }\n",
       "\n",
       "    .dataframe thead th {\n",
       "        text-align: right;\n",
       "    }\n",
       "</style>\n",
       "<table border=\"1\" class=\"dataframe\">\n",
       "  <thead>\n",
       "    <tr style=\"text-align: right;\">\n",
       "      <th></th>\n",
       "      <th>evento</th>\n",
       "      <th>userid</th>\n",
       "    </tr>\n",
       "  </thead>\n",
       "  <tbody>\n",
       "    <tr>\n",
       "      <th>0</th>\n",
       "      <td>MainScreenAppear</td>\n",
       "      <td>7419</td>\n",
       "    </tr>\n",
       "    <tr>\n",
       "      <th>1</th>\n",
       "      <td>OffersScreenAppear</td>\n",
       "      <td>4593</td>\n",
       "    </tr>\n",
       "    <tr>\n",
       "      <th>2</th>\n",
       "      <td>CartScreenAppear</td>\n",
       "      <td>3734</td>\n",
       "    </tr>\n",
       "    <tr>\n",
       "      <th>3</th>\n",
       "      <td>PaymentScreenSuccessful</td>\n",
       "      <td>3539</td>\n",
       "    </tr>\n",
       "    <tr>\n",
       "      <th>4</th>\n",
       "      <td>Tutorial</td>\n",
       "      <td>840</td>\n",
       "    </tr>\n",
       "  </tbody>\n",
       "</table>\n",
       "</div>"
      ],
      "text/plain": [
       "                    evento  userid\n",
       "0         MainScreenAppear    7419\n",
       "1       OffersScreenAppear    4593\n",
       "2         CartScreenAppear    3734\n",
       "3  PaymentScreenSuccessful    3539\n",
       "4                 Tutorial     840"
      ]
     },
     "execution_count": 36,
     "metadata": {},
     "output_type": "execute_result"
    }
   ],
   "source": [
    "#Utiliza el embudo de eventos para encontrar la proporción de usuarios y usuarias que pasan de una etapa a la siguiente. \n",
    "\n",
    "#visualiza data a usar y se resetea el indice para su uso\n",
    "users_per_event_count= users_per_event_count.sort_values(by=\"userid\", ascending=False).reset_index()\n",
    "users_per_event_count"
   ]
  },
  {
   "cell_type": "code",
   "execution_count": 37,
   "metadata": {},
   "outputs": [
    {
     "data": {
      "text/html": [
       "<div>\n",
       "<style scoped>\n",
       "    .dataframe tbody tr th:only-of-type {\n",
       "        vertical-align: middle;\n",
       "    }\n",
       "\n",
       "    .dataframe tbody tr th {\n",
       "        vertical-align: top;\n",
       "    }\n",
       "\n",
       "    .dataframe thead th {\n",
       "        text-align: right;\n",
       "    }\n",
       "</style>\n",
       "<table border=\"1\" class=\"dataframe\">\n",
       "  <thead>\n",
       "    <tr style=\"text-align: right;\">\n",
       "      <th></th>\n",
       "      <th>evento</th>\n",
       "      <th>userid</th>\n",
       "      <th>valor_anterior</th>\n",
       "    </tr>\n",
       "  </thead>\n",
       "  <tbody>\n",
       "    <tr>\n",
       "      <th>0</th>\n",
       "      <td>MainScreenAppear</td>\n",
       "      <td>7419</td>\n",
       "      <td>NaN</td>\n",
       "    </tr>\n",
       "    <tr>\n",
       "      <th>1</th>\n",
       "      <td>OffersScreenAppear</td>\n",
       "      <td>4593</td>\n",
       "      <td>7419.0</td>\n",
       "    </tr>\n",
       "    <tr>\n",
       "      <th>2</th>\n",
       "      <td>CartScreenAppear</td>\n",
       "      <td>3734</td>\n",
       "      <td>4593.0</td>\n",
       "    </tr>\n",
       "    <tr>\n",
       "      <th>3</th>\n",
       "      <td>PaymentScreenSuccessful</td>\n",
       "      <td>3539</td>\n",
       "      <td>3734.0</td>\n",
       "    </tr>\n",
       "    <tr>\n",
       "      <th>4</th>\n",
       "      <td>Tutorial</td>\n",
       "      <td>840</td>\n",
       "      <td>3539.0</td>\n",
       "    </tr>\n",
       "  </tbody>\n",
       "</table>\n",
       "</div>"
      ],
      "text/plain": [
       "                    evento  userid  valor_anterior\n",
       "0         MainScreenAppear    7419             NaN\n",
       "1       OffersScreenAppear    4593          7419.0\n",
       "2         CartScreenAppear    3734          4593.0\n",
       "3  PaymentScreenSuccessful    3539          3734.0\n",
       "4                 Tutorial     840          3539.0"
      ]
     },
     "execution_count": 37,
     "metadata": {},
     "output_type": "execute_result"
    }
   ],
   "source": [
    "#se crea una columna con los valores anteriores para sacar el porcentaje usando shift\n",
    "users_per_event_count[\"valor_anterior\"]=users_per_event_count[\"userid\"].shift(1)\n",
    "users_per_event_count"
   ]
  },
  {
   "cell_type": "code",
   "execution_count": 38,
   "metadata": {},
   "outputs": [
    {
     "data": {
      "text/html": [
       "<div>\n",
       "<style scoped>\n",
       "    .dataframe tbody tr th:only-of-type {\n",
       "        vertical-align: middle;\n",
       "    }\n",
       "\n",
       "    .dataframe tbody tr th {\n",
       "        vertical-align: top;\n",
       "    }\n",
       "\n",
       "    .dataframe thead th {\n",
       "        text-align: right;\n",
       "    }\n",
       "</style>\n",
       "<table border=\"1\" class=\"dataframe\">\n",
       "  <thead>\n",
       "    <tr style=\"text-align: right;\">\n",
       "      <th></th>\n",
       "      <th>evento</th>\n",
       "      <th>userid</th>\n",
       "      <th>valor_anterior</th>\n",
       "      <th>conversion_siguiente_etapa</th>\n",
       "    </tr>\n",
       "  </thead>\n",
       "  <tbody>\n",
       "    <tr>\n",
       "      <th>0</th>\n",
       "      <td>MainScreenAppear</td>\n",
       "      <td>7419</td>\n",
       "      <td>NaN</td>\n",
       "      <td>NaN</td>\n",
       "    </tr>\n",
       "    <tr>\n",
       "      <th>1</th>\n",
       "      <td>OffersScreenAppear</td>\n",
       "      <td>4593</td>\n",
       "      <td>7419.0</td>\n",
       "      <td>61.908613</td>\n",
       "    </tr>\n",
       "    <tr>\n",
       "      <th>2</th>\n",
       "      <td>CartScreenAppear</td>\n",
       "      <td>3734</td>\n",
       "      <td>4593.0</td>\n",
       "      <td>81.297627</td>\n",
       "    </tr>\n",
       "    <tr>\n",
       "      <th>3</th>\n",
       "      <td>PaymentScreenSuccessful</td>\n",
       "      <td>3539</td>\n",
       "      <td>3734.0</td>\n",
       "      <td>94.777718</td>\n",
       "    </tr>\n",
       "    <tr>\n",
       "      <th>4</th>\n",
       "      <td>Tutorial</td>\n",
       "      <td>840</td>\n",
       "      <td>3539.0</td>\n",
       "      <td>23.735519</td>\n",
       "    </tr>\n",
       "  </tbody>\n",
       "</table>\n",
       "</div>"
      ],
      "text/plain": [
       "                    evento  userid  valor_anterior  conversion_siguiente_etapa\n",
       "0         MainScreenAppear    7419             NaN                         NaN\n",
       "1       OffersScreenAppear    4593          7419.0                   61.908613\n",
       "2         CartScreenAppear    3734          4593.0                   81.297627\n",
       "3  PaymentScreenSuccessful    3539          3734.0                   94.777718\n",
       "4                 Tutorial     840          3539.0                   23.735519"
      ]
     },
     "execution_count": 38,
     "metadata": {},
     "output_type": "execute_result"
    }
   ],
   "source": [
    "#cera la formula para calcular el % de conversion entre etapas\n",
    "users_per_event_count[\"conversion_siguiente_etapa\"] = (users_per_event_count[\"userid\"]* 100) /users_per_event_count[\"valor_anterior\"]\n",
    "\n",
    "users_per_event_count"
   ]
  },
  {
   "cell_type": "markdown",
   "metadata": {},
   "source": [
    "**Valor Nan en el primer dato corresponden al 100% de nuestros usuarios**"
   ]
  },
  {
   "cell_type": "markdown",
   "metadata": {},
   "source": [
    "**¿En qué etapa pierdes más usuarios y usuarias?**\n",
    "\n",
    "La mayor cantidad de usuarios se pierde en la última etapa del proceso, ya que al hacer el pago el 76% de los clientes no concretan este paso.\n",
    "\n",
    "El segundo punto importnte de perdida de clientes es el 1er paso, perdiendo un 38% (del 100% al 62%) en el momento que las ofertas son mostrada.\n",
    "\n",
    "\n",
    "Si hablamos de conversión de etapas nuestro problema esta en el pago, debemos considerar si los precios no son del agrado de los usuarios o porque en esa etapa se pierden tantos usuarios, si existe ulguna falla en la plataforma, ya que el interes de los usuarios existe, pero muy poco porcentaje lográ comprar los productos."
   ]
  },
  {
   "cell_type": "code",
   "execution_count": 39,
   "metadata": {},
   "outputs": [
    {
     "data": {
      "text/html": [
       "<div>\n",
       "<style scoped>\n",
       "    .dataframe tbody tr th:only-of-type {\n",
       "        vertical-align: middle;\n",
       "    }\n",
       "\n",
       "    .dataframe tbody tr th {\n",
       "        vertical-align: top;\n",
       "    }\n",
       "\n",
       "    .dataframe thead th {\n",
       "        text-align: right;\n",
       "    }\n",
       "</style>\n",
       "<table border=\"1\" class=\"dataframe\">\n",
       "  <thead>\n",
       "    <tr style=\"text-align: right;\">\n",
       "      <th></th>\n",
       "      <th>evento</th>\n",
       "      <th>userid</th>\n",
       "      <th>valor_anterior</th>\n",
       "      <th>conversion_siguiente_etapa</th>\n",
       "      <th>conversion_total</th>\n",
       "    </tr>\n",
       "  </thead>\n",
       "  <tbody>\n",
       "    <tr>\n",
       "      <th>0</th>\n",
       "      <td>MainScreenAppear</td>\n",
       "      <td>7419</td>\n",
       "      <td>NaN</td>\n",
       "      <td>NaN</td>\n",
       "      <td>100.000000</td>\n",
       "    </tr>\n",
       "    <tr>\n",
       "      <th>1</th>\n",
       "      <td>OffersScreenAppear</td>\n",
       "      <td>4593</td>\n",
       "      <td>7419.0</td>\n",
       "      <td>61.908613</td>\n",
       "      <td>61.908613</td>\n",
       "    </tr>\n",
       "    <tr>\n",
       "      <th>2</th>\n",
       "      <td>CartScreenAppear</td>\n",
       "      <td>3734</td>\n",
       "      <td>4593.0</td>\n",
       "      <td>81.297627</td>\n",
       "      <td>50.330233</td>\n",
       "    </tr>\n",
       "    <tr>\n",
       "      <th>3</th>\n",
       "      <td>PaymentScreenSuccessful</td>\n",
       "      <td>3539</td>\n",
       "      <td>3734.0</td>\n",
       "      <td>94.777718</td>\n",
       "      <td>47.701847</td>\n",
       "    </tr>\n",
       "    <tr>\n",
       "      <th>4</th>\n",
       "      <td>Tutorial</td>\n",
       "      <td>840</td>\n",
       "      <td>3539.0</td>\n",
       "      <td>23.735519</td>\n",
       "      <td>11.322281</td>\n",
       "    </tr>\n",
       "  </tbody>\n",
       "</table>\n",
       "</div>"
      ],
      "text/plain": [
       "                    evento  userid  valor_anterior  \\\n",
       "0         MainScreenAppear    7419             NaN   \n",
       "1       OffersScreenAppear    4593          7419.0   \n",
       "2         CartScreenAppear    3734          4593.0   \n",
       "3  PaymentScreenSuccessful    3539          3734.0   \n",
       "4                 Tutorial     840          3539.0   \n",
       "\n",
       "   conversion_siguiente_etapa  conversion_total  \n",
       "0                         NaN        100.000000  \n",
       "1                   61.908613         61.908613  \n",
       "2                   81.297627         50.330233  \n",
       "3                   94.777718         47.701847  \n",
       "4                   23.735519         11.322281  "
      ]
     },
     "execution_count": 39,
     "metadata": {},
     "output_type": "execute_result"
    }
   ],
   "source": [
    "#¿Qué porcentaje de usuarios y usuarias hace todo el viaje desde su primer evento hasta el pago?\n",
    "#sacar conversion total\n",
    "users_per_event_count[\"conversion_total\"] = (users_per_event_count[\"userid\"]* 100) /7419\n",
    "\n",
    "users_per_event_count"
   ]
  },
  {
   "cell_type": "markdown",
   "metadata": {},
   "source": [
    "**¿Qué porcentaje de usuarios y usuarias hace todo el viaje desde su primer evento hasta el pago?**\n",
    "\n",
    "Solo el 11.32% de nuestros usuarios finalizan el proceso de compra."
   ]
  },
  {
   "cell_type": "markdown",
   "metadata": {},
   "source": [
    "# Resultados del experimento"
   ]
  },
  {
   "cell_type": "code",
   "execution_count": 40,
   "metadata": {},
   "outputs": [
    {
     "data": {
      "text/html": [
       "<div>\n",
       "<style scoped>\n",
       "    .dataframe tbody tr th:only-of-type {\n",
       "        vertical-align: middle;\n",
       "    }\n",
       "\n",
       "    .dataframe tbody tr th {\n",
       "        vertical-align: top;\n",
       "    }\n",
       "\n",
       "    .dataframe thead th {\n",
       "        text-align: right;\n",
       "    }\n",
       "</style>\n",
       "<table border=\"1\" class=\"dataframe\">\n",
       "  <thead>\n",
       "    <tr style=\"text-align: right;\">\n",
       "      <th></th>\n",
       "      <th>grupo</th>\n",
       "      <th>userid</th>\n",
       "    </tr>\n",
       "  </thead>\n",
       "  <tbody>\n",
       "    <tr>\n",
       "      <th>0</th>\n",
       "      <td>246</td>\n",
       "      <td>2484</td>\n",
       "    </tr>\n",
       "    <tr>\n",
       "      <th>1</th>\n",
       "      <td>247</td>\n",
       "      <td>2513</td>\n",
       "    </tr>\n",
       "    <tr>\n",
       "      <th>2</th>\n",
       "      <td>248</td>\n",
       "      <td>2537</td>\n",
       "    </tr>\n",
       "  </tbody>\n",
       "</table>\n",
       "</div>"
      ],
      "text/plain": [
       "   grupo  userid\n",
       "0    246    2484\n",
       "1    247    2513\n",
       "2    248    2537"
      ]
     },
     "execution_count": 40,
     "metadata": {},
     "output_type": "execute_result"
    }
   ],
   "source": [
    "#¿Cuántos usuarios y usuarias hay en cada grupo?\n",
    "\n",
    "#agrupa por evento, se cuenta el número de usuarios únicos por grupo\n",
    "group_count=fildata.groupby(\"grupo\").agg({\"userid\":\"nunique\"}).reset_index()\n",
    "group_count\n"
   ]
  },
  {
   "cell_type": "code",
   "execution_count": 43,
   "metadata": {},
   "outputs": [],
   "source": [
    "#crear data para cada grupo \n",
    "data_246= fildata[fildata[\"grupo\"]== 246] \n",
    "data_247=fildata[fildata[\"grupo\"]== 247]\n",
    "data_248=fildata[fildata[\"grupo\"]== 248]\n"
   ]
  },
  {
   "cell_type": "code",
   "execution_count": 44,
   "metadata": {},
   "outputs": [],
   "source": [
    "#se crean datas para cada grupo, agrupando por día y número total de usuarios para su analisis estadístico\n",
    "count_246=data_246.groupby(\"evento\").agg({\"userid\":\"nunique\"}).reset_index()\n",
    "count_247=data_247.groupby(\"evento\").agg({\"userid\":\"nunique\"}).reset_index()\n",
    "count_248=data_248.groupby(\"fecha\").agg({\"userid\":\"nunique\"}).reset_index()\n"
   ]
  },
  {
   "cell_type": "code",
   "execution_count": 45,
   "metadata": {},
   "outputs": [
    {
     "data": {
      "text/html": [
       "<div>\n",
       "<style scoped>\n",
       "    .dataframe tbody tr th:only-of-type {\n",
       "        vertical-align: middle;\n",
       "    }\n",
       "\n",
       "    .dataframe tbody tr th {\n",
       "        vertical-align: top;\n",
       "    }\n",
       "\n",
       "    .dataframe thead th {\n",
       "        text-align: right;\n",
       "    }\n",
       "</style>\n",
       "<table border=\"1\" class=\"dataframe\">\n",
       "  <thead>\n",
       "    <tr style=\"text-align: right;\">\n",
       "      <th></th>\n",
       "      <th>evento</th>\n",
       "      <th>userid</th>\n",
       "    </tr>\n",
       "  </thead>\n",
       "  <tbody>\n",
       "    <tr>\n",
       "      <th>0</th>\n",
       "      <td>CartScreenAppear</td>\n",
       "      <td>1266</td>\n",
       "    </tr>\n",
       "    <tr>\n",
       "      <th>1</th>\n",
       "      <td>MainScreenAppear</td>\n",
       "      <td>2450</td>\n",
       "    </tr>\n",
       "    <tr>\n",
       "      <th>2</th>\n",
       "      <td>OffersScreenAppear</td>\n",
       "      <td>1542</td>\n",
       "    </tr>\n",
       "    <tr>\n",
       "      <th>3</th>\n",
       "      <td>PaymentScreenSuccessful</td>\n",
       "      <td>1200</td>\n",
       "    </tr>\n",
       "    <tr>\n",
       "      <th>4</th>\n",
       "      <td>Tutorial</td>\n",
       "      <td>278</td>\n",
       "    </tr>\n",
       "  </tbody>\n",
       "</table>\n",
       "</div>"
      ],
      "text/plain": [
       "                    evento  userid\n",
       "0         CartScreenAppear    1266\n",
       "1         MainScreenAppear    2450\n",
       "2       OffersScreenAppear    1542\n",
       "3  PaymentScreenSuccessful    1200\n",
       "4                 Tutorial     278"
      ]
     },
     "execution_count": 45,
     "metadata": {},
     "output_type": "execute_result"
    }
   ],
   "source": [
    "count_246"
   ]
  },
  {
   "cell_type": "code",
   "execution_count": 46,
   "metadata": {},
   "outputs": [
    {
     "name": "stdout",
     "output_type": "stream",
     "text": [
      "valor p para comparar los grupos 246 y 247:  0.9809573661651472\n",
      "Hipótesis nula no rechazada para los grupos 246 y 247\n"
     ]
    }
   ],
   "source": [
    "#Tenemos dos grupos de control en el test A/A, donde comprobamos nuestros mecanismos y cálculos. \n",
    "#Observa si hay una diferencia estadísticamente significativa entre las muestras 246 y 247.\n",
    "\n",
    "alpha = 0.05 # nivel de significación\n",
    "\n",
    "results_AA = st.ttest_ind(count_246[\"userid\"], count_247[\"userid\"])\n",
    "\n",
    "bonferroni_alpha = alpha / 2 # 2 comparaciones realizadas\n",
    "\n",
    "print('valor p para comparar los grupos 246 y 247: ', results_AA.pvalue)\n",
    "\n",
    "if (results_AA.pvalue < bonferroni_alpha):\n",
    "    print(\"Hipótesis nula rechazada para los grupos 246 y 247\")\n",
    "else:\n",
    "    print(\"Hipótesis nula no rechazada para los grupos 246 y 247\")\n"
   ]
  },
  {
   "cell_type": "markdown",
   "metadata": {},
   "source": [
    "**Ho= No existe una diferencia significativa entre ambos grupos**"
   ]
  },
  {
   "cell_type": "code",
   "execution_count": 47,
   "metadata": {},
   "outputs": [
    {
     "data": {
      "text/html": [
       "<div>\n",
       "<style scoped>\n",
       "    .dataframe tbody tr th:only-of-type {\n",
       "        vertical-align: middle;\n",
       "    }\n",
       "\n",
       "    .dataframe tbody tr th {\n",
       "        vertical-align: top;\n",
       "    }\n",
       "\n",
       "    .dataframe thead th {\n",
       "        text-align: right;\n",
       "    }\n",
       "</style>\n",
       "<table border=\"1\" class=\"dataframe\">\n",
       "  <thead>\n",
       "    <tr style=\"text-align: right;\">\n",
       "      <th></th>\n",
       "      <th>evento</th>\n",
       "      <th>userid</th>\n",
       "      <th>valor_anterior</th>\n",
       "      <th>conversion_siguiente_etapa</th>\n",
       "      <th>conversion_total</th>\n",
       "    </tr>\n",
       "  </thead>\n",
       "  <tbody>\n",
       "    <tr>\n",
       "      <th>0</th>\n",
       "      <td>MainScreenAppear</td>\n",
       "      <td>2450</td>\n",
       "      <td>NaN</td>\n",
       "      <td>NaN</td>\n",
       "      <td>100.000000</td>\n",
       "    </tr>\n",
       "    <tr>\n",
       "      <th>1</th>\n",
       "      <td>OffersScreenAppear</td>\n",
       "      <td>1542</td>\n",
       "      <td>2450.0</td>\n",
       "      <td>62.938776</td>\n",
       "      <td>62.938776</td>\n",
       "    </tr>\n",
       "    <tr>\n",
       "      <th>2</th>\n",
       "      <td>CartScreenAppear</td>\n",
       "      <td>1266</td>\n",
       "      <td>1542.0</td>\n",
       "      <td>82.101167</td>\n",
       "      <td>51.673469</td>\n",
       "    </tr>\n",
       "    <tr>\n",
       "      <th>3</th>\n",
       "      <td>PaymentScreenSuccessful</td>\n",
       "      <td>1200</td>\n",
       "      <td>1266.0</td>\n",
       "      <td>94.786730</td>\n",
       "      <td>48.979592</td>\n",
       "    </tr>\n",
       "    <tr>\n",
       "      <th>4</th>\n",
       "      <td>Tutorial</td>\n",
       "      <td>278</td>\n",
       "      <td>1200.0</td>\n",
       "      <td>23.166667</td>\n",
       "      <td>11.346939</td>\n",
       "    </tr>\n",
       "  </tbody>\n",
       "</table>\n",
       "</div>"
      ],
      "text/plain": [
       "                    evento  userid  valor_anterior  \\\n",
       "0         MainScreenAppear    2450             NaN   \n",
       "1       OffersScreenAppear    1542          2450.0   \n",
       "2         CartScreenAppear    1266          1542.0   \n",
       "3  PaymentScreenSuccessful    1200          1266.0   \n",
       "4                 Tutorial     278          1200.0   \n",
       "\n",
       "   conversion_siguiente_etapa  conversion_total  \n",
       "0                         NaN        100.000000  \n",
       "1                   62.938776         62.938776  \n",
       "2                   82.101167         51.673469  \n",
       "3                   94.786730         48.979592  \n",
       "4                   23.166667         11.346939  "
      ]
     },
     "execution_count": 47,
     "metadata": {},
     "output_type": "execute_result"
    }
   ],
   "source": [
    "#Selecciona el evento más popular. \n",
    "#En cada uno de los grupos de control, encuentra la cantidad de usuarios y usuarias que realizaron esta acción. \n",
    "\n",
    "#filtra por evento al grupo 246 \n",
    "popular_246=data_246.groupby(\"evento\").agg({\"userid\":\"nunique\"}).sort_values(by=\"userid\", ascending=False).reset_index()\n",
    "\n",
    "\n",
    "#se crea una columna con los valores anteriores para sacar el porcentaje usando shift\n",
    "popular_246[\"valor_anterior\"]=popular_246[\"userid\"].shift(1)\n",
    "\n",
    "#regla de 3 para el %\n",
    "popular_246[\"conversion_siguiente_etapa\"] = (popular_246[\"userid\"]* 100) /popular_246[\"valor_anterior\"]\n",
    "\n",
    "popular_246[\"conversion_total\"] = (popular_246[\"userid\"]* 100) /2450\n",
    "\n",
    "popular_246"
   ]
  },
  {
   "cell_type": "code",
   "execution_count": 48,
   "metadata": {},
   "outputs": [
    {
     "data": {
      "text/html": [
       "<div>\n",
       "<style scoped>\n",
       "    .dataframe tbody tr th:only-of-type {\n",
       "        vertical-align: middle;\n",
       "    }\n",
       "\n",
       "    .dataframe tbody tr th {\n",
       "        vertical-align: top;\n",
       "    }\n",
       "\n",
       "    .dataframe thead th {\n",
       "        text-align: right;\n",
       "    }\n",
       "</style>\n",
       "<table border=\"1\" class=\"dataframe\">\n",
       "  <thead>\n",
       "    <tr style=\"text-align: right;\">\n",
       "      <th></th>\n",
       "      <th>evento</th>\n",
       "      <th>userid</th>\n",
       "      <th>valor_anterior</th>\n",
       "      <th>conversion_siguiente_etapa</th>\n",
       "      <th>conversion_total</th>\n",
       "    </tr>\n",
       "  </thead>\n",
       "  <tbody>\n",
       "    <tr>\n",
       "      <th>0</th>\n",
       "      <td>MainScreenAppear</td>\n",
       "      <td>2476</td>\n",
       "      <td>NaN</td>\n",
       "      <td>NaN</td>\n",
       "      <td>100.000000</td>\n",
       "    </tr>\n",
       "    <tr>\n",
       "      <th>1</th>\n",
       "      <td>OffersScreenAppear</td>\n",
       "      <td>1520</td>\n",
       "      <td>2476.0</td>\n",
       "      <td>61.389338</td>\n",
       "      <td>61.389338</td>\n",
       "    </tr>\n",
       "    <tr>\n",
       "      <th>2</th>\n",
       "      <td>CartScreenAppear</td>\n",
       "      <td>1238</td>\n",
       "      <td>1520.0</td>\n",
       "      <td>81.447368</td>\n",
       "      <td>50.000000</td>\n",
       "    </tr>\n",
       "    <tr>\n",
       "      <th>3</th>\n",
       "      <td>PaymentScreenSuccessful</td>\n",
       "      <td>1158</td>\n",
       "      <td>1238.0</td>\n",
       "      <td>93.537964</td>\n",
       "      <td>46.768982</td>\n",
       "    </tr>\n",
       "    <tr>\n",
       "      <th>4</th>\n",
       "      <td>Tutorial</td>\n",
       "      <td>283</td>\n",
       "      <td>1158.0</td>\n",
       "      <td>24.438687</td>\n",
       "      <td>11.429725</td>\n",
       "    </tr>\n",
       "  </tbody>\n",
       "</table>\n",
       "</div>"
      ],
      "text/plain": [
       "                    evento  userid  valor_anterior  \\\n",
       "0         MainScreenAppear    2476             NaN   \n",
       "1       OffersScreenAppear    1520          2476.0   \n",
       "2         CartScreenAppear    1238          1520.0   \n",
       "3  PaymentScreenSuccessful    1158          1238.0   \n",
       "4                 Tutorial     283          1158.0   \n",
       "\n",
       "   conversion_siguiente_etapa  conversion_total  \n",
       "0                         NaN        100.000000  \n",
       "1                   61.389338         61.389338  \n",
       "2                   81.447368         50.000000  \n",
       "3                   93.537964         46.768982  \n",
       "4                   24.438687         11.429725  "
      ]
     },
     "execution_count": 48,
     "metadata": {},
     "output_type": "execute_result"
    }
   ],
   "source": [
    "#acciones más populares del grupo 247\n",
    "popular_247=data_247.groupby(\"evento\").agg({\"userid\":\"nunique\"}).sort_values(by=\"userid\", ascending=False).reset_index()\n",
    "\n",
    "#se crea una columna con los valores anteriores para sacar el porcentaje usando shift\n",
    "popular_247[\"valor_anterior\"]=popular_247[\"userid\"].shift(1)\n",
    "\n",
    "#regla de 3 para el %\n",
    "popular_247[\"conversion_siguiente_etapa\"] = (popular_247[\"userid\"]* 100) /popular_247[\"valor_anterior\"]\n",
    "\n",
    "popular_247[\"conversion_total\"] = (popular_247[\"userid\"]* 100) /2476\n",
    "\n",
    "popular_247"
   ]
  },
  {
   "cell_type": "code",
   "execution_count": 49,
   "metadata": {},
   "outputs": [
    {
     "data": {
      "text/html": [
       "<div>\n",
       "<style scoped>\n",
       "    .dataframe tbody tr th:only-of-type {\n",
       "        vertical-align: middle;\n",
       "    }\n",
       "\n",
       "    .dataframe tbody tr th {\n",
       "        vertical-align: top;\n",
       "    }\n",
       "\n",
       "    .dataframe thead th {\n",
       "        text-align: right;\n",
       "    }\n",
       "</style>\n",
       "<table border=\"1\" class=\"dataframe\">\n",
       "  <thead>\n",
       "    <tr style=\"text-align: right;\">\n",
       "      <th></th>\n",
       "      <th>evento</th>\n",
       "      <th>userid</th>\n",
       "      <th>valor_anterior</th>\n",
       "      <th>conversion_siguiente_etapa</th>\n",
       "      <th>conversion_total</th>\n",
       "    </tr>\n",
       "  </thead>\n",
       "  <tbody>\n",
       "    <tr>\n",
       "      <th>0</th>\n",
       "      <td>MainScreenAppear</td>\n",
       "      <td>2493</td>\n",
       "      <td>NaN</td>\n",
       "      <td>NaN</td>\n",
       "      <td>100.000000</td>\n",
       "    </tr>\n",
       "    <tr>\n",
       "      <th>1</th>\n",
       "      <td>OffersScreenAppear</td>\n",
       "      <td>1531</td>\n",
       "      <td>2493.0</td>\n",
       "      <td>61.411953</td>\n",
       "      <td>61.411953</td>\n",
       "    </tr>\n",
       "    <tr>\n",
       "      <th>2</th>\n",
       "      <td>CartScreenAppear</td>\n",
       "      <td>1230</td>\n",
       "      <td>1531.0</td>\n",
       "      <td>80.339647</td>\n",
       "      <td>49.338147</td>\n",
       "    </tr>\n",
       "    <tr>\n",
       "      <th>3</th>\n",
       "      <td>PaymentScreenSuccessful</td>\n",
       "      <td>1181</td>\n",
       "      <td>1230.0</td>\n",
       "      <td>96.016260</td>\n",
       "      <td>47.372643</td>\n",
       "    </tr>\n",
       "    <tr>\n",
       "      <th>4</th>\n",
       "      <td>Tutorial</td>\n",
       "      <td>279</td>\n",
       "      <td>1181.0</td>\n",
       "      <td>23.624047</td>\n",
       "      <td>11.191336</td>\n",
       "    </tr>\n",
       "  </tbody>\n",
       "</table>\n",
       "</div>"
      ],
      "text/plain": [
       "                    evento  userid  valor_anterior  \\\n",
       "0         MainScreenAppear    2493             NaN   \n",
       "1       OffersScreenAppear    1531          2493.0   \n",
       "2         CartScreenAppear    1230          1531.0   \n",
       "3  PaymentScreenSuccessful    1181          1230.0   \n",
       "4                 Tutorial     279          1181.0   \n",
       "\n",
       "   conversion_siguiente_etapa  conversion_total  \n",
       "0                         NaN        100.000000  \n",
       "1                   61.411953         61.411953  \n",
       "2                   80.339647         49.338147  \n",
       "3                   96.016260         47.372643  \n",
       "4                   23.624047         11.191336  "
      ]
     },
     "execution_count": 49,
     "metadata": {},
     "output_type": "execute_result"
    }
   ],
   "source": [
    "#Haz lo mismo para el grupo con fuentes alteradas. Compara los resultados con los resultados combinados de los grupos de control. ¿Qué conclusiones puedes sacar del experimento?\n",
    "\n",
    "#filtra por evento al grupo 248 \n",
    "popular_248=data_248.groupby(\"evento\").agg({\"userid\":\"nunique\"}).sort_values(by=\"userid\", ascending=False).reset_index()\n",
    "\n",
    "\n",
    "#se crea una columna con los valores anteriores para sacar el porcentaje usando shift\n",
    "popular_248[\"valor_anterior\"]=popular_248[\"userid\"].shift(1)\n",
    "\n",
    "#regla de 3 para el %\n",
    "popular_248[\"conversion_siguiente_etapa\"] = (popular_248[\"userid\"]* 100) /popular_248[\"valor_anterior\"]\n",
    "\n",
    "popular_248[\"conversion_total\"] = (popular_248[\"userid\"]* 100) /2493\n",
    "\n",
    "popular_248"
   ]
  },
  {
   "cell_type": "code",
   "execution_count": 50,
   "metadata": {},
   "outputs": [
    {
     "name": "stdout",
     "output_type": "stream",
     "text": [
      "valor p para comparar los grupos 246 y 247:  0.9809573661651472\n",
      "valor p para comparar los grupos 246 y 248:  0.9931630297368078\n",
      "valor p para comparar los grupos 247 y 248:  0.9879505929915808\n",
      "Hipótesis nula no rechazada para los grupos 246 y 247\n",
      "Hipótesis nula no rechazada para los grupos 246 y 248\n",
      "Hipótesis nula no rechazada para los grupos 247 y 248\n"
     ]
    }
   ],
   "source": [
    "alpha = .05 # nivel de significación\n",
    "\n",
    "results_246_247 = st.ttest_ind(popular_246[\"userid\"], popular_247[\"userid\"])\n",
    "\n",
    "results_246_248 = st.ttest_ind(popular_246[\"userid\"], popular_248[\"userid\"])\n",
    "\n",
    "results_247_248 = st.ttest_ind(popular_247[\"userid\"], popular_248[\"userid\"])\n",
    "\n",
    "bonferroni_alpha = alpha / 3  # tres comparaciones realizadas\n",
    "\n",
    "print('valor p para comparar los grupos 246 y 247: ', results_246_247.pvalue)\n",
    "print('valor p para comparar los grupos 246 y 248: ', results_246_248.pvalue)\n",
    "print('valor p para comparar los grupos 247 y 248: ', results_247_248.pvalue)\n",
    "\n",
    "if (results_246_247.pvalue < bonferroni_alpha):\n",
    "    print(\"Hipótesis nula rechazada para los grupos 246 y 247\")\n",
    "else:\n",
    "    print(\"Hipótesis nula no rechazada para los grupos 246 y 247\")\n",
    "\n",
    "if (results_246_248.pvalue < bonferroni_alpha):\n",
    "    print(\"Hipótesis nula rechazada para los grupos 246 y 248\")\n",
    "else:\n",
    "    print(\"Hipótesis nula no rechazada para los grupos 246 y 248\")\n",
    "\n",
    "if (results_247_248.pvalue < bonferroni_alpha):\n",
    "    print(\"Hipótesis nula rechazada para los grupos 247 y 248\")\n",
    "else:\n",
    "    print(\"Hipótesis nula no rechazada para los grupos 247 y 248\")"
   ]
  },
  {
   "cell_type": "markdown",
   "metadata": {},
   "source": [
    "**¿Qué nivel de significación has establecido para probar las hipótesis estadísticas mencionadas anteriormente?**\n",
    "\n",
    "Se ha stablecido un nivel del 5% para la sifnificancia en el valor alpha.\n",
    "\n"
   ]
  },
  {
   "cell_type": "markdown",
   "metadata": {},
   "source": [
    "De han realiado en total 3 pruebas de hipótesis estadísticas usando el método de bonferri para comparar el número de ususarios por grupo (246, 247 y 248 (grupo con los cambios en plpataforma)) en total.\n",
    "\n",
    "Comparando si los datos recolectados mostraban algúna diferencia y podrían ser utilizados para comprobar el impacto de los cambios en nuestra plataforma.\n",
    "\n"
   ]
  },
  {
   "cell_type": "code",
   "execution_count": 51,
   "metadata": {},
   "outputs": [
    {
     "name": "stdout",
     "output_type": "stream",
     "text": [
      "valor p para comparar los grupos 246 y 247:  0.9809573661651472\n",
      "valor p para comparar los grupos 246 y 248:  0.9931630297368078\n",
      "valor p para comparar los grupos 247 y 248:  0.9879505929915808\n",
      "Hipótesis nula no rechazada para los grupos 246 y 247\n",
      "Hipótesis nula no rechazada para los grupos 246 y 248\n",
      "Hipótesis nula no rechazada para los grupos 247 y 248\n"
     ]
    }
   ],
   "source": [
    "# Se volverá a realizar las pruebas ahora con una signiicancia menor para ver si existen cambios.\n",
    "alpha = .01 # nivel de significación\n",
    "\n",
    "results_246_247 = st.ttest_ind(popular_246[\"userid\"], popular_247[\"userid\"])\n",
    "\n",
    "results_246_248 = st.ttest_ind(popular_246[\"userid\"], popular_248[\"userid\"])\n",
    "\n",
    "results_247_248 = st.ttest_ind(popular_247[\"userid\"], popular_248[\"userid\"])\n",
    "\n",
    "bonferroni_alpha = alpha / 3  # tres comparaciones realizadas\n",
    "\n",
    "print('valor p para comparar los grupos 246 y 247: ', results_246_247.pvalue)\n",
    "print('valor p para comparar los grupos 246 y 248: ', results_246_248.pvalue)\n",
    "print('valor p para comparar los grupos 247 y 248: ', results_247_248.pvalue)\n",
    "\n",
    "if (results_246_247.pvalue < bonferroni_alpha):\n",
    "    print(\"Hipótesis nula rechazada para los grupos 246 y 247\")\n",
    "else:\n",
    "    print(\"Hipótesis nula no rechazada para los grupos 246 y 247\")\n",
    "\n",
    "if (results_246_248.pvalue < bonferroni_alpha):\n",
    "    print(\"Hipótesis nula rechazada para los grupos 246 y 248\")\n",
    "else:\n",
    "    print(\"Hipótesis nula no rechazada para los grupos 246 y 248\")\n",
    "\n",
    "if (results_247_248.pvalue < bonferroni_alpha):\n",
    "    print(\"Hipótesis nula rechazada para los grupos 247 y 248\")\n",
    "else:\n",
    "    print(\"Hipótesis nula no rechazada para los grupos 247 y 248\")"
   ]
  },
  {
   "cell_type": "markdown",
   "metadata": {},
   "source": [
    "**¿Cuál debería ser el nivel de significación?**\n",
    "\n",
    "Utilizando tanto el 1% como el 5% de valor alpha podemos observar que la comparación de los datas no muestran ningún cambio conforme a la decisión de No rechazar la hipótesis con los 3 grupos.\n",
    "\n",
    "Entre menos rango de significancia tengamos menor probabilidad de un falso positivo tenemos lo que nos ayuda a tomar mejores decisiones como empresa con los cambios.\n",
    "\n",
    "Conocemos que **Con un nivel de significancia estadística de 0.1, uno de cada 10 resultados podría ser falso.**"
   ]
  },
  {
   "cell_type": "markdown",
   "metadata": {},
   "source": [
    "# Conclusiones "
   ]
  },
  {
   "cell_type": "markdown",
   "metadata": {},
   "source": [
    "En nuestro trabajo descubrimos que tenemos 5 eventos registrado en la plataorma y el orden por interacciones de los usuarios con nuestra plataforma es:\n",
    "\n",
    "-MainScreenAppear\n",
    "\n",
    "-OffersScreenAppear\t\n",
    "\n",
    "-CartScreenAppear\n",
    "\n",
    "-PaymentScreenSuccessful\n",
    "\n",
    "-Tutorial\n",
    "\n",
    "Inicialmente tuvimos un registro de 7551 usuarios dentro de los  grupos analizados, con un promedio de 32 clics por usuario a la hora de usar la plataforma.\n",
    "\n",
    "Nuestro estudio tiene una longitud de solo 12 días dentro de los cuales, los primeros 5 fueron eliminados por falta de registros La fecha del estudio iba del 25-07-2019 al 07-08-2019. \n",
    "Para nuestro estudio se iniciaria a tomar en cuenta desde el 01-08-2019, teniendp solo5 días de recolección de información.\n",
    "Al eliminar los 7 días solo se perdieron 17 usuarios (0.2% del total), dejando un total de 7 534 usuarios para este estudio.\n",
    "\n",
    "\n",
    "En general sin importar el grupo analizado, tenemos que solo el 11% de nuestros usuarios que nos visitan.\n",
    "\n",
    "Teniendo el mayor porcentaje de perdida de los clientes en el momento del pago y al inicio de ver las ofertas. Se necesita analizar que pasa que más del 76% de los clientes retenidos hasta esa etapa se pierden al momento del pago. Es interesante analizar si eiste algun problema con la plataforma que esta causando este problema (falla o falta de metodos de pago, etc).\n",
    "\n",
    "Tanto los grupos 246 y 247 que se utilizaron para la prueba A/A al momento de anliaarlos no mostraron diferencias en sus clientes ni en su interacción con la plataforma, por lo cual nos confirmo que se podía realizar la prueba B con el cambio con menor probabilidad de fallo en los resultados.\n",
    "\n",
    "Al analizar los 3 grupos No existe ninguna diferencia significativa que nos haga rechazar la H0, la cual plantea que si eisten diferencias con las plataformas.\n",
    "\n",
    "Para esta prueba se compararon los 3 grupos con el uso de la fórmula de Bonferroni para poder comparar los 3 grupos y su impacto  con la prueba, buscando evitar falsos positivos.\n",
    "\n",
    "Basado en los resultados los cambios en la plataforma no estan teniendo impactos considerables en las reaccione sy ventas de los usuarios. Es importante graficar los resultados y continuar con un analisis a mayor profundidad para poder tomar una decision definitiva, además de considerar que 5 días pueden ser pocos días para la prueba y una toma decisiva ante los cambios."
   ]
  }
 ],
 "metadata": {
  "ExecuteTimeLog": [
   {
    "duration": 2515,
    "start_time": "2025-01-13T16:36:45.248Z"
   },
   {
    "duration": 575,
    "start_time": "2025-01-13T16:36:49.008Z"
   },
   {
    "duration": 212,
    "start_time": "2025-01-13T16:36:56.985Z"
   },
   {
    "duration": 8,
    "start_time": "2025-01-13T16:36:58.160Z"
   },
   {
    "duration": 5,
    "start_time": "2025-01-13T16:37:18.901Z"
   },
   {
    "duration": 7,
    "start_time": "2025-01-13T16:37:24.089Z"
   },
   {
    "duration": 94,
    "start_time": "2025-01-13T16:37:34.551Z"
   },
   {
    "duration": 8,
    "start_time": "2025-01-13T16:37:37.717Z"
   },
   {
    "duration": 16,
    "start_time": "2025-01-13T16:37:57.324Z"
   },
   {
    "duration": 8,
    "start_time": "2025-01-13T16:38:05.227Z"
   },
   {
    "duration": 4,
    "start_time": "2025-01-13T16:38:16.092Z"
   },
   {
    "duration": 3,
    "start_time": "2025-01-13T16:39:01.965Z"
   },
   {
    "duration": 2,
    "start_time": "2025-01-13T16:39:02.833Z"
   },
   {
    "duration": 4,
    "start_time": "2025-01-13T16:39:13.720Z"
   },
   {
    "duration": 11,
    "start_time": "2025-01-13T16:39:53.385Z"
   },
   {
    "duration": 38,
    "start_time": "2025-01-13T16:40:00.361Z"
   },
   {
    "duration": 14,
    "start_time": "2025-01-13T16:56:29.969Z"
   },
   {
    "duration": 785,
    "start_time": "2025-01-13T17:04:04.254Z"
   },
   {
    "duration": 103,
    "start_time": "2025-01-13T17:04:07.703Z"
   },
   {
    "duration": 10,
    "start_time": "2025-01-13T17:04:08.694Z"
   },
   {
    "duration": 16,
    "start_time": "2025-01-13T17:04:13.515Z"
   },
   {
    "duration": 6,
    "start_time": "2025-01-13T17:04:18.987Z"
   },
   {
    "duration": 4,
    "start_time": "2025-01-13T17:04:20.029Z"
   },
   {
    "duration": 281,
    "start_time": "2025-01-13T17:05:24.170Z"
   },
   {
    "duration": 13,
    "start_time": "2025-01-13T17:07:49.046Z"
   },
   {
    "duration": 10,
    "start_time": "2025-01-13T17:07:54.337Z"
   },
   {
    "duration": 13,
    "start_time": "2025-01-13T17:08:44.295Z"
   },
   {
    "duration": 4,
    "start_time": "2025-01-13T17:09:01.125Z"
   },
   {
    "duration": 11,
    "start_time": "2025-01-13T17:09:25.998Z"
   },
   {
    "duration": 767,
    "start_time": "2025-01-13T17:09:38.974Z"
   },
   {
    "duration": 109,
    "start_time": "2025-01-13T17:09:39.743Z"
   },
   {
    "duration": 12,
    "start_time": "2025-01-13T17:09:39.854Z"
   },
   {
    "duration": 16,
    "start_time": "2025-01-13T17:09:39.868Z"
   },
   {
    "duration": 5,
    "start_time": "2025-01-13T17:09:39.886Z"
   },
   {
    "duration": 3,
    "start_time": "2025-01-13T17:09:39.893Z"
   },
   {
    "duration": 33,
    "start_time": "2025-01-13T17:09:39.898Z"
   },
   {
    "duration": 271,
    "start_time": "2025-01-13T17:09:39.932Z"
   },
   {
    "duration": 0,
    "start_time": "2025-01-13T17:09:40.206Z"
   },
   {
    "duration": 0,
    "start_time": "2025-01-13T17:09:40.207Z"
   },
   {
    "duration": 0,
    "start_time": "2025-01-13T17:09:40.208Z"
   },
   {
    "duration": 0,
    "start_time": "2025-01-13T17:09:40.209Z"
   },
   {
    "duration": 0,
    "start_time": "2025-01-13T17:09:40.210Z"
   },
   {
    "duration": 0,
    "start_time": "2025-01-13T17:09:40.224Z"
   },
   {
    "duration": 0,
    "start_time": "2025-01-13T17:09:40.225Z"
   },
   {
    "duration": 0,
    "start_time": "2025-01-13T17:09:40.226Z"
   },
   {
    "duration": 0,
    "start_time": "2025-01-13T17:09:40.227Z"
   },
   {
    "duration": 0,
    "start_time": "2025-01-13T17:09:40.228Z"
   },
   {
    "duration": 0,
    "start_time": "2025-01-13T17:09:40.229Z"
   },
   {
    "duration": 0,
    "start_time": "2025-01-13T17:09:40.231Z"
   },
   {
    "duration": 0,
    "start_time": "2025-01-13T17:09:40.232Z"
   },
   {
    "duration": 0,
    "start_time": "2025-01-13T17:09:40.233Z"
   },
   {
    "duration": 0,
    "start_time": "2025-01-13T17:09:40.234Z"
   },
   {
    "duration": 0,
    "start_time": "2025-01-13T17:09:40.235Z"
   },
   {
    "duration": 0,
    "start_time": "2025-01-13T17:09:40.236Z"
   },
   {
    "duration": 0,
    "start_time": "2025-01-13T17:09:40.237Z"
   },
   {
    "duration": 0,
    "start_time": "2025-01-13T17:09:40.238Z"
   },
   {
    "duration": 0,
    "start_time": "2025-01-13T17:09:40.239Z"
   },
   {
    "duration": 0,
    "start_time": "2025-01-13T17:09:40.241Z"
   },
   {
    "duration": 0,
    "start_time": "2025-01-13T17:09:40.242Z"
   },
   {
    "duration": 0,
    "start_time": "2025-01-13T17:09:40.243Z"
   },
   {
    "duration": 0,
    "start_time": "2025-01-13T17:09:40.245Z"
   },
   {
    "duration": 0,
    "start_time": "2025-01-13T17:09:40.246Z"
   },
   {
    "duration": 12,
    "start_time": "2025-01-13T17:09:45.361Z"
   },
   {
    "duration": 44,
    "start_time": "2025-01-13T17:09:47.349Z"
   },
   {
    "duration": 17,
    "start_time": "2025-01-13T17:09:49.942Z"
   },
   {
    "duration": 434,
    "start_time": "2025-01-13T17:12:07.322Z"
   },
   {
    "duration": 48,
    "start_time": "2025-01-13T17:12:52.893Z"
   },
   {
    "duration": 5,
    "start_time": "2025-01-13T17:15:11.281Z"
   },
   {
    "duration": 29,
    "start_time": "2025-01-13T17:15:14.064Z"
   },
   {
    "duration": 11,
    "start_time": "2025-01-13T17:15:15.367Z"
   },
   {
    "duration": 46,
    "start_time": "2025-01-13T17:15:16.620Z"
   },
   {
    "duration": 49,
    "start_time": "2025-01-13T17:15:17.689Z"
   },
   {
    "duration": 15,
    "start_time": "2025-01-13T17:15:32.225Z"
   },
   {
    "duration": 10,
    "start_time": "2025-01-13T17:16:23.065Z"
   },
   {
    "duration": 123,
    "start_time": "2025-01-13T17:22:32.048Z"
   },
   {
    "duration": 20,
    "start_time": "2025-01-13T17:22:44.486Z"
   },
   {
    "duration": 21,
    "start_time": "2025-01-13T17:24:53.290Z"
   },
   {
    "duration": 40,
    "start_time": "2025-01-13T17:25:24.937Z"
   },
   {
    "duration": 13,
    "start_time": "2025-01-13T17:25:34.588Z"
   },
   {
    "duration": 16,
    "start_time": "2025-01-13T17:25:41.938Z"
   },
   {
    "duration": 37,
    "start_time": "2025-01-13T17:27:16.131Z"
   },
   {
    "duration": 4,
    "start_time": "2025-01-13T17:52:26.500Z"
   },
   {
    "duration": 39,
    "start_time": "2025-01-13T17:52:37.366Z"
   },
   {
    "duration": 2544,
    "start_time": "2025-01-13T18:56:53.081Z"
   },
   {
    "duration": 137,
    "start_time": "2025-01-13T18:56:55.627Z"
   },
   {
    "duration": 13,
    "start_time": "2025-01-13T18:56:55.765Z"
   },
   {
    "duration": 15,
    "start_time": "2025-01-13T18:56:55.780Z"
   },
   {
    "duration": 3,
    "start_time": "2025-01-13T18:56:55.796Z"
   },
   {
    "duration": 6,
    "start_time": "2025-01-13T18:56:55.801Z"
   },
   {
    "duration": 6,
    "start_time": "2025-01-13T18:56:55.808Z"
   },
   {
    "duration": 11,
    "start_time": "2025-01-13T18:56:55.816Z"
   },
   {
    "duration": 83,
    "start_time": "2025-01-13T18:56:55.829Z"
   },
   {
    "duration": 55,
    "start_time": "2025-01-13T18:56:55.915Z"
   },
   {
    "duration": 42,
    "start_time": "2025-01-13T18:56:55.972Z"
   },
   {
    "duration": 15,
    "start_time": "2025-01-13T18:56:56.016Z"
   },
   {
    "duration": 8,
    "start_time": "2025-01-13T18:56:56.033Z"
   },
   {
    "duration": 28,
    "start_time": "2025-01-13T18:56:56.042Z"
   },
   {
    "duration": 28,
    "start_time": "2025-01-13T18:56:56.072Z"
   },
   {
    "duration": 16,
    "start_time": "2025-01-13T18:56:56.102Z"
   },
   {
    "duration": 2,
    "start_time": "2025-01-13T18:56:56.119Z"
   },
   {
    "duration": 2,
    "start_time": "2025-01-13T18:56:56.124Z"
   },
   {
    "duration": 3,
    "start_time": "2025-01-13T18:56:56.127Z"
   },
   {
    "duration": 2,
    "start_time": "2025-01-13T18:56:56.132Z"
   },
   {
    "duration": 34,
    "start_time": "2025-01-13T18:56:56.136Z"
   },
   {
    "duration": 2,
    "start_time": "2025-01-13T18:56:56.172Z"
   },
   {
    "duration": 39,
    "start_time": "2025-01-13T18:56:56.176Z"
   },
   {
    "duration": 3,
    "start_time": "2025-01-13T18:56:56.217Z"
   },
   {
    "duration": 3,
    "start_time": "2025-01-13T18:56:56.221Z"
   },
   {
    "duration": 3,
    "start_time": "2025-01-13T18:56:56.225Z"
   },
   {
    "duration": 2,
    "start_time": "2025-01-13T18:56:56.229Z"
   },
   {
    "duration": 1,
    "start_time": "2025-01-13T18:56:56.235Z"
   },
   {
    "duration": 34,
    "start_time": "2025-01-13T18:56:56.237Z"
   },
   {
    "duration": 3,
    "start_time": "2025-01-13T18:56:56.272Z"
   },
   {
    "duration": 3,
    "start_time": "2025-01-13T18:56:56.276Z"
   },
   {
    "duration": 5,
    "start_time": "2025-01-13T18:56:56.280Z"
   },
   {
    "duration": 2,
    "start_time": "2025-01-13T18:56:56.286Z"
   },
   {
    "duration": 3,
    "start_time": "2025-01-13T18:56:56.289Z"
   },
   {
    "duration": 3,
    "start_time": "2025-01-13T18:56:56.293Z"
   },
   {
    "duration": 3,
    "start_time": "2025-01-13T18:56:56.297Z"
   },
   {
    "duration": 36,
    "start_time": "2025-01-13T19:00:35.491Z"
   },
   {
    "duration": 7,
    "start_time": "2025-01-13T19:00:49.764Z"
   },
   {
    "duration": 487,
    "start_time": "2025-01-13T19:02:42.668Z"
   },
   {
    "duration": 20,
    "start_time": "2025-01-13T19:02:56.940Z"
   },
   {
    "duration": 38,
    "start_time": "2025-01-13T19:03:04.428Z"
   },
   {
    "duration": 178,
    "start_time": "2025-01-13T19:08:20.143Z"
   },
   {
    "duration": 41,
    "start_time": "2025-01-13T19:08:42.794Z"
   },
   {
    "duration": 458,
    "start_time": "2025-01-13T19:20:33.162Z"
   },
   {
    "duration": 52,
    "start_time": "2025-01-13T19:20:43.188Z"
   },
   {
    "duration": 213,
    "start_time": "2025-01-13T19:21:02.381Z"
   },
   {
    "duration": 64,
    "start_time": "2025-01-13T19:21:26.656Z"
   },
   {
    "duration": 51,
    "start_time": "2025-01-13T19:22:01.552Z"
   },
   {
    "duration": 123,
    "start_time": "2025-01-13T19:22:14.151Z"
   },
   {
    "duration": 140,
    "start_time": "2025-01-13T19:22:24.358Z"
   },
   {
    "duration": 121,
    "start_time": "2025-01-13T19:22:53.571Z"
   },
   {
    "duration": 5,
    "start_time": "2025-01-13T19:24:14.353Z"
   },
   {
    "duration": 117,
    "start_time": "2025-01-13T19:31:49.108Z"
   },
   {
    "duration": 816,
    "start_time": "2025-01-13T19:37:00.573Z"
   },
   {
    "duration": 100,
    "start_time": "2025-01-13T19:37:01.391Z"
   },
   {
    "duration": 10,
    "start_time": "2025-01-13T19:37:01.493Z"
   },
   {
    "duration": 15,
    "start_time": "2025-01-13T19:37:01.506Z"
   },
   {
    "duration": 3,
    "start_time": "2025-01-13T19:37:01.523Z"
   },
   {
    "duration": 6,
    "start_time": "2025-01-13T19:37:01.528Z"
   },
   {
    "duration": 33,
    "start_time": "2025-01-13T19:37:01.537Z"
   },
   {
    "duration": 11,
    "start_time": "2025-01-13T19:37:01.572Z"
   },
   {
    "duration": 42,
    "start_time": "2025-01-13T19:37:01.584Z"
   },
   {
    "duration": 69,
    "start_time": "2025-01-13T19:37:01.629Z"
   },
   {
    "duration": 41,
    "start_time": "2025-01-13T19:37:01.700Z"
   },
   {
    "duration": 31,
    "start_time": "2025-01-13T19:37:01.743Z"
   },
   {
    "duration": 8,
    "start_time": "2025-01-13T19:37:01.776Z"
   },
   {
    "duration": 2,
    "start_time": "2025-01-13T19:37:01.786Z"
   },
   {
    "duration": 28,
    "start_time": "2025-01-13T19:37:01.791Z"
   },
   {
    "duration": 16,
    "start_time": "2025-01-13T19:37:01.820Z"
   },
   {
    "duration": 37,
    "start_time": "2025-01-13T19:37:01.837Z"
   },
   {
    "duration": 2,
    "start_time": "2025-01-13T19:37:01.876Z"
   },
   {
    "duration": 3,
    "start_time": "2025-01-13T19:37:01.879Z"
   },
   {
    "duration": 2,
    "start_time": "2025-01-13T19:37:01.883Z"
   },
   {
    "duration": 3,
    "start_time": "2025-01-13T19:37:01.887Z"
   },
   {
    "duration": 18,
    "start_time": "2025-01-13T19:37:01.891Z"
   },
   {
    "duration": 151,
    "start_time": "2025-01-13T19:37:01.911Z"
   },
   {
    "duration": 40,
    "start_time": "2025-01-13T19:37:02.065Z"
   },
   {
    "duration": 136,
    "start_time": "2025-01-13T19:37:02.107Z"
   },
   {
    "duration": 5,
    "start_time": "2025-01-13T19:37:02.245Z"
   },
   {
    "duration": 3,
    "start_time": "2025-01-13T19:37:02.252Z"
   },
   {
    "duration": 2,
    "start_time": "2025-01-13T19:37:02.272Z"
   },
   {
    "duration": 3,
    "start_time": "2025-01-13T19:37:02.275Z"
   },
   {
    "duration": 3,
    "start_time": "2025-01-13T19:37:02.279Z"
   },
   {
    "duration": 3,
    "start_time": "2025-01-13T19:37:02.283Z"
   },
   {
    "duration": 3,
    "start_time": "2025-01-13T19:37:02.287Z"
   },
   {
    "duration": 4,
    "start_time": "2025-01-13T19:37:02.291Z"
   },
   {
    "duration": 2,
    "start_time": "2025-01-13T19:37:02.297Z"
   },
   {
    "duration": 2,
    "start_time": "2025-01-13T19:37:02.301Z"
   },
   {
    "duration": 3,
    "start_time": "2025-01-13T19:37:02.305Z"
   },
   {
    "duration": 8,
    "start_time": "2025-01-13T19:39:31.053Z"
   },
   {
    "duration": 9,
    "start_time": "2025-01-13T19:39:46.871Z"
   },
   {
    "duration": 25,
    "start_time": "2025-01-13T19:42:05.996Z"
   },
   {
    "duration": 25,
    "start_time": "2025-01-13T19:42:36.797Z"
   },
   {
    "duration": 786,
    "start_time": "2025-01-13T20:00:37.314Z"
   },
   {
    "duration": 102,
    "start_time": "2025-01-13T20:00:38.222Z"
   },
   {
    "duration": 11,
    "start_time": "2025-01-13T20:00:38.722Z"
   },
   {
    "duration": 16,
    "start_time": "2025-01-13T20:00:39.483Z"
   },
   {
    "duration": 3,
    "start_time": "2025-01-13T20:00:46.196Z"
   },
   {
    "duration": 6,
    "start_time": "2025-01-13T20:00:46.696Z"
   },
   {
    "duration": 7,
    "start_time": "2025-01-13T20:00:50.624Z"
   },
   {
    "duration": 11,
    "start_time": "2025-01-13T20:00:56.074Z"
   },
   {
    "duration": 41,
    "start_time": "2025-01-13T20:00:56.819Z"
   },
   {
    "duration": 51,
    "start_time": "2025-01-13T20:00:58.546Z"
   },
   {
    "duration": 40,
    "start_time": "2025-01-13T20:01:03.435Z"
   },
   {
    "duration": 15,
    "start_time": "2025-01-13T20:01:06.817Z"
   },
   {
    "duration": 7,
    "start_time": "2025-01-13T20:01:16.199Z"
   },
   {
    "duration": 16,
    "start_time": "2025-01-13T20:02:21.248Z"
   },
   {
    "duration": 9,
    "start_time": "2025-01-13T20:02:22.995Z"
   },
   {
    "duration": 19,
    "start_time": "2025-01-13T20:04:46.916Z"
   },
   {
    "duration": 133,
    "start_time": "2025-01-13T20:04:51.108Z"
   },
   {
    "duration": 39,
    "start_time": "2025-01-13T20:05:07.709Z"
   },
   {
    "duration": 117,
    "start_time": "2025-01-13T20:05:09.093Z"
   },
   {
    "duration": 4,
    "start_time": "2025-01-13T20:05:16.864Z"
   },
   {
    "duration": 28,
    "start_time": "2025-01-13T20:08:22.732Z"
   },
   {
    "duration": 2586,
    "start_time": "2025-01-13T23:59:25.016Z"
   },
   {
    "duration": 134,
    "start_time": "2025-01-13T23:59:36.919Z"
   },
   {
    "duration": 11,
    "start_time": "2025-01-13T23:59:38.008Z"
   },
   {
    "duration": 16,
    "start_time": "2025-01-13T23:59:38.824Z"
   },
   {
    "duration": 3,
    "start_time": "2025-01-13T23:59:40.201Z"
   },
   {
    "duration": 5,
    "start_time": "2025-01-13T23:59:42.820Z"
   },
   {
    "duration": 6,
    "start_time": "2025-01-13T23:59:43.637Z"
   },
   {
    "duration": 11,
    "start_time": "2025-01-13T23:59:46.688Z"
   },
   {
    "duration": 43,
    "start_time": "2025-01-13T23:59:48.488Z"
   },
   {
    "duration": 46,
    "start_time": "2025-01-13T23:59:48.714Z"
   },
   {
    "duration": 41,
    "start_time": "2025-01-13T23:59:53.693Z"
   },
   {
    "duration": 15,
    "start_time": "2025-01-13T23:59:55.857Z"
   },
   {
    "duration": 8,
    "start_time": "2025-01-13T23:59:57.716Z"
   },
   {
    "duration": 28,
    "start_time": "2025-01-14T00:08:45.287Z"
   },
   {
    "duration": 7,
    "start_time": "2025-01-14T00:08:46.908Z"
   },
   {
    "duration": 815,
    "start_time": "2025-01-14T00:09:22.082Z"
   },
   {
    "duration": 106,
    "start_time": "2025-01-14T00:09:22.899Z"
   },
   {
    "duration": 10,
    "start_time": "2025-01-14T00:09:23.006Z"
   },
   {
    "duration": 14,
    "start_time": "2025-01-14T00:09:23.044Z"
   },
   {
    "duration": 4,
    "start_time": "2025-01-14T00:09:23.783Z"
   },
   {
    "duration": 5,
    "start_time": "2025-01-14T00:09:24.497Z"
   },
   {
    "duration": 7,
    "start_time": "2025-01-14T00:09:25.100Z"
   },
   {
    "duration": 10,
    "start_time": "2025-01-14T00:09:25.397Z"
   },
   {
    "duration": 42,
    "start_time": "2025-01-14T00:09:25.641Z"
   },
   {
    "duration": 47,
    "start_time": "2025-01-14T00:09:26.504Z"
   },
   {
    "duration": 40,
    "start_time": "2025-01-14T00:09:27.975Z"
   },
   {
    "duration": 15,
    "start_time": "2025-01-14T00:09:28.211Z"
   },
   {
    "duration": 7,
    "start_time": "2025-01-14T00:09:33.620Z"
   },
   {
    "duration": 27,
    "start_time": "2025-01-14T00:10:20.518Z"
   },
   {
    "duration": 7,
    "start_time": "2025-01-14T00:10:21.246Z"
   },
   {
    "duration": 6,
    "start_time": "2025-01-14T00:11:57.311Z"
   },
   {
    "duration": 7,
    "start_time": "2025-01-14T00:11:58.010Z"
   },
   {
    "duration": 8,
    "start_time": "2025-01-14T00:14:08.944Z"
   },
   {
    "duration": 8,
    "start_time": "2025-01-14T00:14:10.954Z"
   },
   {
    "duration": 45,
    "start_time": "2025-01-14T00:15:43.686Z"
   },
   {
    "duration": 8,
    "start_time": "2025-01-14T00:15:44.269Z"
   },
   {
    "duration": 14,
    "start_time": "2025-01-14T00:16:02.686Z"
   },
   {
    "duration": 10,
    "start_time": "2025-01-14T00:16:03.183Z"
   },
   {
    "duration": 4,
    "start_time": "2025-01-14T00:19:19.124Z"
   },
   {
    "duration": 41,
    "start_time": "2025-01-14T00:19:19.911Z"
   },
   {
    "duration": 7,
    "start_time": "2025-01-14T00:19:20.437Z"
   },
   {
    "duration": 540,
    "start_time": "2025-01-14T00:20:51.580Z"
   },
   {
    "duration": 19,
    "start_time": "2025-01-14T00:21:16.270Z"
   },
   {
    "duration": 15,
    "start_time": "2025-01-14T00:21:37.356Z"
   },
   {
    "duration": 18,
    "start_time": "2025-01-14T00:22:04.573Z"
   },
   {
    "duration": 5,
    "start_time": "2025-01-14T00:22:26.047Z"
   },
   {
    "duration": 476,
    "start_time": "2025-01-14T00:26:50.358Z"
   },
   {
    "duration": 64,
    "start_time": "2025-01-14T00:27:02.101Z"
   },
   {
    "duration": 823,
    "start_time": "2025-01-14T00:34:49.371Z"
   },
   {
    "duration": 105,
    "start_time": "2025-01-14T00:34:50.197Z"
   },
   {
    "duration": 10,
    "start_time": "2025-01-14T00:34:50.304Z"
   },
   {
    "duration": 15,
    "start_time": "2025-01-14T00:34:50.316Z"
   },
   {
    "duration": 3,
    "start_time": "2025-01-14T00:34:50.334Z"
   },
   {
    "duration": 6,
    "start_time": "2025-01-14T00:34:50.339Z"
   },
   {
    "duration": 6,
    "start_time": "2025-01-14T00:34:50.347Z"
   },
   {
    "duration": 40,
    "start_time": "2025-01-14T00:34:50.355Z"
   },
   {
    "duration": 42,
    "start_time": "2025-01-14T00:34:50.397Z"
   },
   {
    "duration": 64,
    "start_time": "2025-01-14T00:34:50.441Z"
   },
   {
    "duration": 41,
    "start_time": "2025-01-14T00:34:50.507Z"
   },
   {
    "duration": 14,
    "start_time": "2025-01-14T00:34:50.550Z"
   },
   {
    "duration": 23,
    "start_time": "2025-01-14T00:34:50.566Z"
   },
   {
    "duration": 6,
    "start_time": "2025-01-14T00:34:50.594Z"
   },
   {
    "duration": 680,
    "start_time": "2025-01-14T00:34:50.602Z"
   },
   {
    "duration": 0,
    "start_time": "2025-01-14T00:34:51.284Z"
   },
   {
    "duration": 0,
    "start_time": "2025-01-14T00:34:51.284Z"
   },
   {
    "duration": 0,
    "start_time": "2025-01-14T00:34:51.286Z"
   },
   {
    "duration": 0,
    "start_time": "2025-01-14T00:34:51.287Z"
   },
   {
    "duration": 0,
    "start_time": "2025-01-14T00:34:51.288Z"
   },
   {
    "duration": 0,
    "start_time": "2025-01-14T00:34:51.289Z"
   },
   {
    "duration": 0,
    "start_time": "2025-01-14T00:34:51.290Z"
   },
   {
    "duration": 0,
    "start_time": "2025-01-14T00:34:51.291Z"
   },
   {
    "duration": 0,
    "start_time": "2025-01-14T00:34:51.292Z"
   },
   {
    "duration": 0,
    "start_time": "2025-01-14T00:34:51.293Z"
   },
   {
    "duration": 0,
    "start_time": "2025-01-14T00:34:51.294Z"
   },
   {
    "duration": 0,
    "start_time": "2025-01-14T00:34:51.295Z"
   },
   {
    "duration": 0,
    "start_time": "2025-01-14T00:34:51.296Z"
   },
   {
    "duration": 0,
    "start_time": "2025-01-14T00:34:51.297Z"
   },
   {
    "duration": 0,
    "start_time": "2025-01-14T00:34:51.298Z"
   },
   {
    "duration": 0,
    "start_time": "2025-01-14T00:34:51.300Z"
   },
   {
    "duration": 0,
    "start_time": "2025-01-14T00:34:51.303Z"
   },
   {
    "duration": 0,
    "start_time": "2025-01-14T00:34:51.304Z"
   },
   {
    "duration": 0,
    "start_time": "2025-01-14T00:34:51.305Z"
   },
   {
    "duration": 0,
    "start_time": "2025-01-14T00:34:51.307Z"
   },
   {
    "duration": 0,
    "start_time": "2025-01-14T00:34:51.309Z"
   },
   {
    "duration": 0,
    "start_time": "2025-01-14T00:34:51.310Z"
   },
   {
    "duration": 0,
    "start_time": "2025-01-14T00:34:51.312Z"
   },
   {
    "duration": 0,
    "start_time": "2025-01-14T00:34:51.314Z"
   },
   {
    "duration": 0,
    "start_time": "2025-01-14T00:34:51.315Z"
   },
   {
    "duration": 0,
    "start_time": "2025-01-14T00:34:51.316Z"
   },
   {
    "duration": 44,
    "start_time": "2025-01-14T00:35:24.654Z"
   },
   {
    "duration": 7,
    "start_time": "2025-01-14T00:35:25.433Z"
   },
   {
    "duration": 15,
    "start_time": "2025-01-14T00:35:36.291Z"
   },
   {
    "duration": 9,
    "start_time": "2025-01-14T00:35:36.547Z"
   },
   {
    "duration": 18,
    "start_time": "2025-01-14T00:35:41.577Z"
   },
   {
    "duration": 4,
    "start_time": "2025-01-14T00:35:42.536Z"
   },
   {
    "duration": 52,
    "start_time": "2025-01-14T00:35:50.392Z"
   },
   {
    "duration": 6,
    "start_time": "2025-01-14T00:39:38.898Z"
   },
   {
    "duration": 23,
    "start_time": "2025-01-14T00:39:45.994Z"
   },
   {
    "duration": 69,
    "start_time": "2025-01-14T00:43:11.453Z"
   },
   {
    "duration": 23,
    "start_time": "2025-01-14T00:43:40.353Z"
   },
   {
    "duration": 26,
    "start_time": "2025-01-14T00:45:05.160Z"
   },
   {
    "duration": 8,
    "start_time": "2025-01-14T00:45:06.581Z"
   },
   {
    "duration": 16,
    "start_time": "2025-01-14T00:45:08.473Z"
   },
   {
    "duration": 144,
    "start_time": "2025-01-14T00:45:16.871Z"
   },
   {
    "duration": 144,
    "start_time": "2025-01-14T00:45:33.330Z"
   },
   {
    "duration": 155,
    "start_time": "2025-01-14T00:45:42.314Z"
   },
   {
    "duration": 184,
    "start_time": "2025-01-14T00:45:58.327Z"
   },
   {
    "duration": 228,
    "start_time": "2025-01-14T00:50:14.230Z"
   },
   {
    "duration": 194,
    "start_time": "2025-01-14T00:50:27.153Z"
   },
   {
    "duration": 226,
    "start_time": "2025-01-14T00:50:40.279Z"
   },
   {
    "duration": 219,
    "start_time": "2025-01-14T00:50:51.081Z"
   },
   {
    "duration": 173,
    "start_time": "2025-01-14T00:51:14.320Z"
   },
   {
    "duration": 180,
    "start_time": "2025-01-14T01:00:02.129Z"
   },
   {
    "duration": 2490,
    "start_time": "2025-01-14T13:23:42.402Z"
   },
   {
    "duration": 128,
    "start_time": "2025-01-14T13:23:44.894Z"
   },
   {
    "duration": 11,
    "start_time": "2025-01-14T13:23:45.024Z"
   },
   {
    "duration": 16,
    "start_time": "2025-01-14T13:23:45.037Z"
   },
   {
    "duration": 4,
    "start_time": "2025-01-14T13:23:45.054Z"
   },
   {
    "duration": 6,
    "start_time": "2025-01-14T13:23:45.060Z"
   },
   {
    "duration": 6,
    "start_time": "2025-01-14T13:23:45.067Z"
   },
   {
    "duration": 10,
    "start_time": "2025-01-14T13:23:45.074Z"
   },
   {
    "duration": 42,
    "start_time": "2025-01-14T13:23:45.123Z"
   },
   {
    "duration": 56,
    "start_time": "2025-01-14T13:23:45.169Z"
   },
   {
    "duration": 40,
    "start_time": "2025-01-14T13:23:45.227Z"
   },
   {
    "duration": 15,
    "start_time": "2025-01-14T13:23:45.268Z"
   },
   {
    "duration": 6,
    "start_time": "2025-01-14T13:23:45.284Z"
   },
   {
    "duration": 31,
    "start_time": "2025-01-14T13:23:45.292Z"
   },
   {
    "duration": 42,
    "start_time": "2025-01-14T13:23:45.325Z"
   },
   {
    "duration": 27,
    "start_time": "2025-01-14T13:23:45.369Z"
   },
   {
    "duration": 26,
    "start_time": "2025-01-14T13:23:45.398Z"
   },
   {
    "duration": 14,
    "start_time": "2025-01-14T13:23:45.426Z"
   },
   {
    "duration": 16,
    "start_time": "2025-01-14T13:23:45.442Z"
   },
   {
    "duration": 9,
    "start_time": "2025-01-14T13:23:45.459Z"
   },
   {
    "duration": 16,
    "start_time": "2025-01-14T13:23:45.469Z"
   },
   {
    "duration": 4,
    "start_time": "2025-01-14T13:23:45.486Z"
   },
   {
    "duration": 4,
    "start_time": "2025-01-14T13:23:45.524Z"
   },
   {
    "duration": 200,
    "start_time": "2025-01-14T13:23:45.530Z"
   },
   {
    "duration": 2,
    "start_time": "2025-01-14T13:23:45.732Z"
   },
   {
    "duration": 3,
    "start_time": "2025-01-14T13:23:45.736Z"
   },
   {
    "duration": 2,
    "start_time": "2025-01-14T13:23:45.740Z"
   },
   {
    "duration": 2,
    "start_time": "2025-01-14T13:23:45.747Z"
   },
   {
    "duration": 19,
    "start_time": "2025-01-14T13:23:45.751Z"
   },
   {
    "duration": 146,
    "start_time": "2025-01-14T13:23:45.772Z"
   },
   {
    "duration": 45,
    "start_time": "2025-01-14T13:23:45.920Z"
   },
   {
    "duration": 131,
    "start_time": "2025-01-14T13:23:45.967Z"
   },
   {
    "duration": 4,
    "start_time": "2025-01-14T13:23:46.100Z"
   },
   {
    "duration": 2,
    "start_time": "2025-01-14T13:23:46.106Z"
   },
   {
    "duration": 27,
    "start_time": "2025-01-14T13:23:46.127Z"
   },
   {
    "duration": 2,
    "start_time": "2025-01-14T13:23:46.156Z"
   },
   {
    "duration": 2,
    "start_time": "2025-01-14T13:23:46.160Z"
   },
   {
    "duration": 2,
    "start_time": "2025-01-14T13:23:46.164Z"
   },
   {
    "duration": 2,
    "start_time": "2025-01-14T13:23:46.169Z"
   },
   {
    "duration": 2,
    "start_time": "2025-01-14T13:23:46.173Z"
   },
   {
    "duration": 2,
    "start_time": "2025-01-14T13:23:46.177Z"
   },
   {
    "duration": 2,
    "start_time": "2025-01-14T13:23:46.181Z"
   },
   {
    "duration": 2,
    "start_time": "2025-01-14T13:23:46.224Z"
   },
   {
    "duration": 6,
    "start_time": "2025-01-14T13:25:23.147Z"
   },
   {
    "duration": 19,
    "start_time": "2025-01-14T13:25:30.287Z"
   },
   {
    "duration": 11,
    "start_time": "2025-01-14T13:26:23.757Z"
   },
   {
    "duration": 11,
    "start_time": "2025-01-14T13:27:07.327Z"
   },
   {
    "duration": 23,
    "start_time": "2025-01-14T13:28:15.506Z"
   },
   {
    "duration": 20,
    "start_time": "2025-01-14T13:28:48.286Z"
   },
   {
    "duration": 158,
    "start_time": "2025-01-14T13:28:55.962Z"
   },
   {
    "duration": 39,
    "start_time": "2025-01-14T13:29:05.062Z"
   },
   {
    "duration": 116,
    "start_time": "2025-01-14T13:29:08.608Z"
   },
   {
    "duration": 5,
    "start_time": "2025-01-14T13:30:23.872Z"
   },
   {
    "duration": 23,
    "start_time": "2025-01-14T13:32:09.011Z"
   },
   {
    "duration": 610,
    "start_time": "2025-01-14T13:56:43.931Z"
   },
   {
    "duration": 44,
    "start_time": "2025-01-14T13:59:29.034Z"
   },
   {
    "duration": 9,
    "start_time": "2025-01-14T14:00:27.194Z"
   },
   {
    "duration": 4,
    "start_time": "2025-01-14T14:13:05.333Z"
   },
   {
    "duration": 14,
    "start_time": "2025-01-14T14:15:57.243Z"
   },
   {
    "duration": 13,
    "start_time": "2025-01-14T14:16:04.768Z"
   },
   {
    "duration": 13,
    "start_time": "2025-01-14T14:16:14.319Z"
   },
   {
    "duration": 4,
    "start_time": "2025-01-14T14:17:01.202Z"
   },
   {
    "duration": 7,
    "start_time": "2025-01-14T14:17:12.562Z"
   },
   {
    "duration": 43,
    "start_time": "2025-01-14T14:19:21.093Z"
   },
   {
    "duration": 7,
    "start_time": "2025-01-14T14:19:41.285Z"
   },
   {
    "duration": 16,
    "start_time": "2025-01-14T14:20:13.299Z"
   },
   {
    "duration": 4,
    "start_time": "2025-01-14T14:20:37.676Z"
   },
   {
    "duration": 14,
    "start_time": "2025-01-14T14:20:57.121Z"
   },
   {
    "duration": 5,
    "start_time": "2025-01-14T14:21:04.436Z"
   },
   {
    "duration": 7,
    "start_time": "2025-01-14T14:21:32.265Z"
   },
   {
    "duration": 7,
    "start_time": "2025-01-14T14:21:49.577Z"
   },
   {
    "duration": 4,
    "start_time": "2025-01-14T14:24:36.601Z"
   },
   {
    "duration": 5,
    "start_time": "2025-01-14T14:24:45.672Z"
   },
   {
    "duration": 801,
    "start_time": "2025-01-14T14:25:20.311Z"
   },
   {
    "duration": 108,
    "start_time": "2025-01-14T14:25:21.115Z"
   },
   {
    "duration": 10,
    "start_time": "2025-01-14T14:25:21.225Z"
   },
   {
    "duration": 15,
    "start_time": "2025-01-14T14:25:21.237Z"
   },
   {
    "duration": 3,
    "start_time": "2025-01-14T14:25:21.255Z"
   },
   {
    "duration": 5,
    "start_time": "2025-01-14T14:25:21.260Z"
   },
   {
    "duration": 6,
    "start_time": "2025-01-14T14:25:21.268Z"
   },
   {
    "duration": 10,
    "start_time": "2025-01-14T14:25:21.275Z"
   },
   {
    "duration": 78,
    "start_time": "2025-01-14T14:25:21.287Z"
   },
   {
    "duration": 45,
    "start_time": "2025-01-14T14:25:21.367Z"
   },
   {
    "duration": 40,
    "start_time": "2025-01-14T14:25:21.424Z"
   },
   {
    "duration": 15,
    "start_time": "2025-01-14T14:25:21.466Z"
   },
   {
    "duration": 6,
    "start_time": "2025-01-14T14:25:21.482Z"
   },
   {
    "duration": 5,
    "start_time": "2025-01-14T14:25:21.492Z"
   },
   {
    "duration": 66,
    "start_time": "2025-01-14T14:25:21.498Z"
   },
   {
    "duration": 26,
    "start_time": "2025-01-14T14:25:21.567Z"
   },
   {
    "duration": 7,
    "start_time": "2025-01-14T14:25:21.594Z"
   },
   {
    "duration": 31,
    "start_time": "2025-01-14T14:25:21.603Z"
   },
   {
    "duration": 15,
    "start_time": "2025-01-14T14:25:21.636Z"
   },
   {
    "duration": 8,
    "start_time": "2025-01-14T14:25:21.652Z"
   },
   {
    "duration": 17,
    "start_time": "2025-01-14T14:25:21.661Z"
   },
   {
    "duration": 4,
    "start_time": "2025-01-14T14:25:21.680Z"
   },
   {
    "duration": 5,
    "start_time": "2025-01-14T14:25:21.685Z"
   },
   {
    "duration": 213,
    "start_time": "2025-01-14T14:25:21.724Z"
   },
   {
    "duration": 17,
    "start_time": "2025-01-14T14:25:21.939Z"
   },
   {
    "duration": 3,
    "start_time": "2025-01-14T14:25:21.957Z"
   },
   {
    "duration": 8,
    "start_time": "2025-01-14T14:25:21.962Z"
   },
   {
    "duration": 5,
    "start_time": "2025-01-14T14:25:21.972Z"
   },
   {
    "duration": 55,
    "start_time": "2025-01-14T14:25:21.979Z"
   },
   {
    "duration": 17,
    "start_time": "2025-01-14T14:25:22.036Z"
   },
   {
    "duration": 132,
    "start_time": "2025-01-14T14:25:22.055Z"
   },
   {
    "duration": 48,
    "start_time": "2025-01-14T14:25:22.188Z"
   },
   {
    "duration": 173,
    "start_time": "2025-01-14T14:25:22.238Z"
   },
   {
    "duration": 11,
    "start_time": "2025-01-14T14:25:22.413Z"
   },
   {
    "duration": 44,
    "start_time": "2025-01-14T14:25:22.426Z"
   },
   {
    "duration": 9,
    "start_time": "2025-01-14T14:25:22.472Z"
   },
   {
    "duration": 6,
    "start_time": "2025-01-14T14:25:22.482Z"
   },
   {
    "duration": 7,
    "start_time": "2025-01-14T14:25:22.490Z"
   },
   {
    "duration": 25,
    "start_time": "2025-01-14T14:25:22.524Z"
   },
   {
    "duration": 2,
    "start_time": "2025-01-14T14:25:22.551Z"
   },
   {
    "duration": 2,
    "start_time": "2025-01-14T14:25:22.557Z"
   },
   {
    "duration": 3,
    "start_time": "2025-01-14T14:25:22.560Z"
   },
   {
    "duration": 4,
    "start_time": "2025-01-14T14:25:22.565Z"
   },
   {
    "duration": 3,
    "start_time": "2025-01-14T14:25:22.570Z"
   },
   {
    "duration": 2,
    "start_time": "2025-01-14T14:25:22.575Z"
   },
   {
    "duration": 2,
    "start_time": "2025-01-14T14:25:22.579Z"
   },
   {
    "duration": 3,
    "start_time": "2025-01-14T14:25:22.583Z"
   },
   {
    "duration": 8,
    "start_time": "2025-01-14T14:28:02.188Z"
   },
   {
    "duration": 7,
    "start_time": "2025-01-14T14:28:30.085Z"
   },
   {
    "duration": 8,
    "start_time": "2025-01-14T14:29:38.239Z"
   },
   {
    "duration": 4,
    "start_time": "2025-01-14T14:36:07.877Z"
   },
   {
    "duration": 16,
    "start_time": "2025-01-14T14:49:23.501Z"
   },
   {
    "duration": 215,
    "start_time": "2025-01-14T14:49:29.195Z"
   },
   {
    "duration": 875,
    "start_time": "2025-01-14T14:49:57.992Z"
   },
   {
    "duration": 104,
    "start_time": "2025-01-14T14:49:58.870Z"
   },
   {
    "duration": 11,
    "start_time": "2025-01-14T14:49:58.976Z"
   },
   {
    "duration": 16,
    "start_time": "2025-01-14T14:49:58.989Z"
   },
   {
    "duration": 19,
    "start_time": "2025-01-14T14:49:59.007Z"
   },
   {
    "duration": 5,
    "start_time": "2025-01-14T14:49:59.028Z"
   },
   {
    "duration": 6,
    "start_time": "2025-01-14T14:49:59.035Z"
   },
   {
    "duration": 10,
    "start_time": "2025-01-14T14:49:59.044Z"
   },
   {
    "duration": 69,
    "start_time": "2025-01-14T14:49:59.056Z"
   },
   {
    "duration": 48,
    "start_time": "2025-01-14T14:49:59.129Z"
   },
   {
    "duration": 60,
    "start_time": "2025-01-14T14:49:59.179Z"
   },
   {
    "duration": 15,
    "start_time": "2025-01-14T14:49:59.241Z"
   },
   {
    "duration": 6,
    "start_time": "2025-01-14T14:49:59.258Z"
   },
   {
    "duration": 6,
    "start_time": "2025-01-14T14:49:59.266Z"
   },
   {
    "duration": 65,
    "start_time": "2025-01-14T14:49:59.273Z"
   },
   {
    "duration": 29,
    "start_time": "2025-01-14T14:49:59.340Z"
   },
   {
    "duration": 7,
    "start_time": "2025-01-14T14:49:59.370Z"
   },
   {
    "duration": 16,
    "start_time": "2025-01-14T14:49:59.379Z"
   },
   {
    "duration": 36,
    "start_time": "2025-01-14T14:49:59.396Z"
   },
   {
    "duration": 8,
    "start_time": "2025-01-14T14:49:59.433Z"
   },
   {
    "duration": 18,
    "start_time": "2025-01-14T14:49:59.443Z"
   },
   {
    "duration": 4,
    "start_time": "2025-01-14T14:49:59.463Z"
   },
   {
    "duration": 4,
    "start_time": "2025-01-14T14:49:59.469Z"
   },
   {
    "duration": 235,
    "start_time": "2025-01-14T14:49:59.474Z"
   },
   {
    "duration": 22,
    "start_time": "2025-01-14T14:49:59.711Z"
   },
   {
    "duration": 2,
    "start_time": "2025-01-14T14:49:59.735Z"
   },
   {
    "duration": 9,
    "start_time": "2025-01-14T14:49:59.739Z"
   },
   {
    "duration": 5,
    "start_time": "2025-01-14T14:49:59.752Z"
   },
   {
    "duration": 24,
    "start_time": "2025-01-14T14:49:59.759Z"
   },
   {
    "duration": 47,
    "start_time": "2025-01-14T14:49:59.784Z"
   },
   {
    "duration": 136,
    "start_time": "2025-01-14T14:49:59.833Z"
   },
   {
    "duration": 40,
    "start_time": "2025-01-14T14:49:59.971Z"
   },
   {
    "duration": 196,
    "start_time": "2025-01-14T14:50:00.013Z"
   },
   {
    "duration": 4,
    "start_time": "2025-01-14T14:50:00.211Z"
   },
   {
    "duration": 45,
    "start_time": "2025-01-14T14:50:00.224Z"
   },
   {
    "duration": 8,
    "start_time": "2025-01-14T14:50:00.271Z"
   },
   {
    "duration": 9,
    "start_time": "2025-01-14T14:50:00.281Z"
   },
   {
    "duration": 8,
    "start_time": "2025-01-14T14:50:00.292Z"
   },
   {
    "duration": 30,
    "start_time": "2025-01-14T14:50:00.301Z"
   },
   {
    "duration": 3,
    "start_time": "2025-01-14T14:50:00.333Z"
   },
   {
    "duration": 27,
    "start_time": "2025-01-14T14:50:00.338Z"
   },
   {
    "duration": 16,
    "start_time": "2025-01-14T14:50:00.366Z"
   },
   {
    "duration": 3951,
    "start_time": "2025-01-14T14:50:00.384Z"
   },
   {
    "duration": 0,
    "start_time": "2025-01-14T14:50:04.336Z"
   },
   {
    "duration": 0,
    "start_time": "2025-01-14T14:50:04.338Z"
   },
   {
    "duration": 0,
    "start_time": "2025-01-14T14:50:04.339Z"
   },
   {
    "duration": 0,
    "start_time": "2025-01-14T14:50:04.340Z"
   },
   {
    "duration": 0,
    "start_time": "2025-01-14T14:50:04.341Z"
   },
   {
    "duration": 0,
    "start_time": "2025-01-14T14:50:04.342Z"
   },
   {
    "duration": 0,
    "start_time": "2025-01-14T14:50:04.343Z"
   },
   {
    "duration": 10,
    "start_time": "2025-01-14T14:50:28.538Z"
   },
   {
    "duration": 9,
    "start_time": "2025-01-14T14:50:53.550Z"
   },
   {
    "duration": 11,
    "start_time": "2025-01-14T14:51:15.339Z"
   },
   {
    "duration": 17,
    "start_time": "2025-01-14T14:52:45.823Z"
   },
   {
    "duration": 4,
    "start_time": "2025-01-14T14:52:49.526Z"
   },
   {
    "duration": 15,
    "start_time": "2025-01-14T14:53:11.941Z"
   },
   {
    "duration": 10,
    "start_time": "2025-01-14T14:53:12.924Z"
   },
   {
    "duration": 37,
    "start_time": "2025-01-14T14:54:31.329Z"
   },
   {
    "duration": 28,
    "start_time": "2025-01-14T14:54:45.599Z"
   },
   {
    "duration": 11,
    "start_time": "2025-01-14T14:56:52.011Z"
   },
   {
    "duration": 13,
    "start_time": "2025-01-14T14:59:54.520Z"
   },
   {
    "duration": 3,
    "start_time": "2025-01-14T15:00:06.646Z"
   },
   {
    "duration": 14,
    "start_time": "2025-01-14T15:00:10.884Z"
   },
   {
    "duration": 23,
    "start_time": "2025-01-14T15:01:13.157Z"
   },
   {
    "duration": 46,
    "start_time": "2025-01-14T15:01:33.198Z"
   },
   {
    "duration": 6,
    "start_time": "2025-01-14T15:02:12.119Z"
   },
   {
    "duration": 9,
    "start_time": "2025-01-14T15:03:21.705Z"
   },
   {
    "duration": 5,
    "start_time": "2025-01-14T15:03:33.791Z"
   },
   {
    "duration": 45,
    "start_time": "2025-01-14T15:03:42.201Z"
   },
   {
    "duration": 44,
    "start_time": "2025-01-14T15:04:04.702Z"
   },
   {
    "duration": 77,
    "start_time": "2025-01-14T15:06:11.859Z"
   },
   {
    "duration": 42,
    "start_time": "2025-01-14T15:06:19.798Z"
   },
   {
    "duration": 44,
    "start_time": "2025-01-14T15:06:27.915Z"
   },
   {
    "duration": 42,
    "start_time": "2025-01-14T15:07:13.039Z"
   },
   {
    "duration": 44,
    "start_time": "2025-01-14T15:07:13.645Z"
   },
   {
    "duration": 18,
    "start_time": "2025-01-14T15:08:03.144Z"
   },
   {
    "duration": 18,
    "start_time": "2025-01-14T15:08:13.461Z"
   },
   {
    "duration": 2505,
    "start_time": "2025-01-14T16:06:22.580Z"
   },
   {
    "duration": 140,
    "start_time": "2025-01-14T16:06:25.088Z"
   },
   {
    "duration": 13,
    "start_time": "2025-01-14T16:06:25.230Z"
   },
   {
    "duration": 17,
    "start_time": "2025-01-14T16:06:25.244Z"
   },
   {
    "duration": 3,
    "start_time": "2025-01-14T16:06:25.263Z"
   },
   {
    "duration": 5,
    "start_time": "2025-01-14T16:06:25.268Z"
   },
   {
    "duration": 6,
    "start_time": "2025-01-14T16:06:25.275Z"
   },
   {
    "duration": 45,
    "start_time": "2025-01-14T16:06:25.283Z"
   },
   {
    "duration": 42,
    "start_time": "2025-01-14T16:06:25.330Z"
   },
   {
    "duration": 59,
    "start_time": "2025-01-14T16:06:25.374Z"
   },
   {
    "duration": 41,
    "start_time": "2025-01-14T16:06:25.435Z"
   },
   {
    "duration": 14,
    "start_time": "2025-01-14T16:06:25.477Z"
   },
   {
    "duration": 6,
    "start_time": "2025-01-14T16:06:25.492Z"
   },
   {
    "duration": 6,
    "start_time": "2025-01-14T16:06:25.525Z"
   },
   {
    "duration": 41,
    "start_time": "2025-01-14T16:06:25.532Z"
   },
   {
    "duration": 26,
    "start_time": "2025-01-14T16:06:25.575Z"
   },
   {
    "duration": 27,
    "start_time": "2025-01-14T16:06:25.602Z"
   },
   {
    "duration": 15,
    "start_time": "2025-01-14T16:06:25.630Z"
   },
   {
    "duration": 15,
    "start_time": "2025-01-14T16:06:25.646Z"
   },
   {
    "duration": 7,
    "start_time": "2025-01-14T16:06:25.663Z"
   },
   {
    "duration": 16,
    "start_time": "2025-01-14T16:06:25.672Z"
   },
   {
    "duration": 4,
    "start_time": "2025-01-14T16:06:25.690Z"
   },
   {
    "duration": 4,
    "start_time": "2025-01-14T16:06:25.725Z"
   },
   {
    "duration": 204,
    "start_time": "2025-01-14T16:06:25.731Z"
   },
   {
    "duration": 16,
    "start_time": "2025-01-14T16:06:25.937Z"
   },
   {
    "duration": 2,
    "start_time": "2025-01-14T16:06:25.955Z"
   },
   {
    "duration": 8,
    "start_time": "2025-01-14T16:06:25.959Z"
   },
   {
    "duration": 6,
    "start_time": "2025-01-14T16:06:25.968Z"
   },
   {
    "duration": 55,
    "start_time": "2025-01-14T16:06:25.975Z"
   },
   {
    "duration": 18,
    "start_time": "2025-01-14T16:06:26.032Z"
   },
   {
    "duration": 125,
    "start_time": "2025-01-14T16:06:26.052Z"
   },
   {
    "duration": 46,
    "start_time": "2025-01-14T16:06:26.179Z"
   },
   {
    "duration": 131,
    "start_time": "2025-01-14T16:06:26.227Z"
   },
   {
    "duration": 5,
    "start_time": "2025-01-14T16:06:26.360Z"
   },
   {
    "duration": 60,
    "start_time": "2025-01-14T16:06:26.368Z"
   },
   {
    "duration": 9,
    "start_time": "2025-01-14T16:06:26.430Z"
   },
   {
    "duration": 6,
    "start_time": "2025-01-14T16:06:26.441Z"
   },
   {
    "duration": 7,
    "start_time": "2025-01-14T16:06:26.449Z"
   },
   {
    "duration": 8,
    "start_time": "2025-01-14T16:06:26.458Z"
   },
   {
    "duration": 4,
    "start_time": "2025-01-14T16:06:26.467Z"
   },
   {
    "duration": 61,
    "start_time": "2025-01-14T16:06:26.475Z"
   },
   {
    "duration": 15,
    "start_time": "2025-01-14T16:06:26.538Z"
   },
   {
    "duration": 24,
    "start_time": "2025-01-14T16:06:26.555Z"
   },
   {
    "duration": 6,
    "start_time": "2025-01-14T16:06:26.580Z"
   },
   {
    "duration": 552,
    "start_time": "2025-01-14T16:06:26.588Z"
   },
   {
    "duration": 0,
    "start_time": "2025-01-14T16:06:27.142Z"
   },
   {
    "duration": 0,
    "start_time": "2025-01-14T16:06:27.144Z"
   },
   {
    "duration": 0,
    "start_time": "2025-01-14T16:06:27.145Z"
   },
   {
    "duration": 0,
    "start_time": "2025-01-14T16:06:27.147Z"
   },
   {
    "duration": 0,
    "start_time": "2025-01-14T16:06:27.148Z"
   },
   {
    "duration": 0,
    "start_time": "2025-01-14T16:06:27.149Z"
   },
   {
    "duration": 0,
    "start_time": "2025-01-14T16:06:27.150Z"
   },
   {
    "duration": 0,
    "start_time": "2025-01-14T16:06:27.151Z"
   },
   {
    "duration": 0,
    "start_time": "2025-01-14T16:06:27.152Z"
   },
   {
    "duration": 33,
    "start_time": "2025-01-14T16:13:26.895Z"
   },
   {
    "duration": 10,
    "start_time": "2025-01-14T16:13:27.517Z"
   },
   {
    "duration": 46,
    "start_time": "2025-01-14T16:13:37.604Z"
   },
   {
    "duration": 5,
    "start_time": "2025-01-14T16:14:49.942Z"
   },
   {
    "duration": 18,
    "start_time": "2025-01-14T16:15:38.823Z"
   },
   {
    "duration": 19,
    "start_time": "2025-01-14T16:15:43.253Z"
   },
   {
    "duration": 19,
    "start_time": "2025-01-14T16:25:21.926Z"
   },
   {
    "duration": 23,
    "start_time": "2025-01-14T16:25:29.436Z"
   },
   {
    "duration": 5,
    "start_time": "2025-01-14T16:31:18.213Z"
   },
   {
    "duration": 4,
    "start_time": "2025-01-14T16:47:06.712Z"
   },
   {
    "duration": 4,
    "start_time": "2025-01-14T16:47:41.950Z"
   },
   {
    "duration": 9,
    "start_time": "2025-01-14T16:48:57.913Z"
   },
   {
    "duration": 9,
    "start_time": "2025-01-14T16:49:39.209Z"
   },
   {
    "duration": 8,
    "start_time": "2025-01-14T16:49:59.879Z"
   },
   {
    "duration": 8,
    "start_time": "2025-01-14T16:50:16.716Z"
   },
   {
    "duration": 21,
    "start_time": "2025-01-14T16:51:38.992Z"
   },
   {
    "duration": 22,
    "start_time": "2025-01-14T16:51:59.130Z"
   },
   {
    "duration": 166,
    "start_time": "2025-01-14T19:30:43.730Z"
   },
   {
    "duration": 2522,
    "start_time": "2025-01-14T19:30:53.427Z"
   },
   {
    "duration": 131,
    "start_time": "2025-01-14T19:30:55.952Z"
   },
   {
    "duration": 12,
    "start_time": "2025-01-14T19:30:56.084Z"
   },
   {
    "duration": 16,
    "start_time": "2025-01-14T19:30:56.098Z"
   },
   {
    "duration": 8,
    "start_time": "2025-01-14T19:30:56.117Z"
   },
   {
    "duration": 5,
    "start_time": "2025-01-14T19:30:56.128Z"
   },
   {
    "duration": 6,
    "start_time": "2025-01-14T19:30:56.135Z"
   },
   {
    "duration": 11,
    "start_time": "2025-01-14T19:30:56.143Z"
   },
   {
    "duration": 69,
    "start_time": "2025-01-14T19:30:56.156Z"
   },
   {
    "duration": 50,
    "start_time": "2025-01-14T19:30:56.227Z"
   },
   {
    "duration": 52,
    "start_time": "2025-01-14T19:30:56.279Z"
   },
   {
    "duration": 14,
    "start_time": "2025-01-14T19:30:56.334Z"
   },
   {
    "duration": 7,
    "start_time": "2025-01-14T19:30:56.350Z"
   },
   {
    "duration": 6,
    "start_time": "2025-01-14T19:30:56.360Z"
   },
   {
    "duration": 62,
    "start_time": "2025-01-14T19:30:56.368Z"
   },
   {
    "duration": 27,
    "start_time": "2025-01-14T19:30:56.432Z"
   },
   {
    "duration": 8,
    "start_time": "2025-01-14T19:30:56.461Z"
   },
   {
    "duration": 14,
    "start_time": "2025-01-14T19:30:56.472Z"
   },
   {
    "duration": 39,
    "start_time": "2025-01-14T19:30:56.487Z"
   },
   {
    "duration": 8,
    "start_time": "2025-01-14T19:30:56.528Z"
   },
   {
    "duration": 16,
    "start_time": "2025-01-14T19:30:56.537Z"
   },
   {
    "duration": 4,
    "start_time": "2025-01-14T19:30:56.555Z"
   },
   {
    "duration": 6,
    "start_time": "2025-01-14T19:30:56.560Z"
   },
   {
    "duration": 218,
    "start_time": "2025-01-14T19:30:56.568Z"
   },
   {
    "duration": 17,
    "start_time": "2025-01-14T19:30:56.787Z"
   },
   {
    "duration": 22,
    "start_time": "2025-01-14T19:30:56.806Z"
   },
   {
    "duration": 5,
    "start_time": "2025-01-14T19:30:56.830Z"
   },
   {
    "duration": 22,
    "start_time": "2025-01-14T19:30:56.837Z"
   },
   {
    "duration": 18,
    "start_time": "2025-01-14T19:30:56.861Z"
   },
   {
    "duration": 137,
    "start_time": "2025-01-14T19:30:56.880Z"
   },
   {
    "duration": 38,
    "start_time": "2025-01-14T19:30:57.023Z"
   },
   {
    "duration": 133,
    "start_time": "2025-01-14T19:30:57.063Z"
   },
   {
    "duration": 5,
    "start_time": "2025-01-14T19:30:57.198Z"
   },
   {
    "duration": 57,
    "start_time": "2025-01-14T19:30:57.204Z"
   },
   {
    "duration": 8,
    "start_time": "2025-01-14T19:30:57.264Z"
   },
   {
    "duration": 7,
    "start_time": "2025-01-14T19:30:57.273Z"
   },
   {
    "duration": 7,
    "start_time": "2025-01-14T19:30:57.282Z"
   },
   {
    "duration": 7,
    "start_time": "2025-01-14T19:30:57.290Z"
   },
   {
    "duration": 7,
    "start_time": "2025-01-14T19:30:57.324Z"
   },
   {
    "duration": 25,
    "start_time": "2025-01-14T19:30:57.333Z"
   },
   {
    "duration": 15,
    "start_time": "2025-01-14T19:30:57.363Z"
   },
   {
    "duration": 57,
    "start_time": "2025-01-14T19:30:57.380Z"
   },
   {
    "duration": 6,
    "start_time": "2025-01-14T19:30:57.438Z"
   },
   {
    "duration": 4,
    "start_time": "2025-01-14T19:30:57.446Z"
   },
   {
    "duration": 21,
    "start_time": "2025-01-14T19:30:57.452Z"
   },
   {
    "duration": 20,
    "start_time": "2025-01-14T19:30:57.474Z"
   },
   {
    "duration": 736,
    "start_time": "2025-01-14T19:30:57.495Z"
   },
   {
    "duration": 0,
    "start_time": "2025-01-14T19:30:58.233Z"
   },
   {
    "duration": 0,
    "start_time": "2025-01-14T19:30:58.234Z"
   },
   {
    "duration": 0,
    "start_time": "2025-01-14T19:30:58.235Z"
   },
   {
    "duration": 0,
    "start_time": "2025-01-14T19:30:58.236Z"
   },
   {
    "duration": 0,
    "start_time": "2025-01-14T19:30:58.237Z"
   },
   {
    "duration": 0,
    "start_time": "2025-01-14T19:30:58.238Z"
   },
   {
    "duration": 0,
    "start_time": "2025-01-14T19:30:58.239Z"
   },
   {
    "duration": 283,
    "start_time": "2025-01-14T19:31:20.024Z"
   },
   {
    "duration": 22,
    "start_time": "2025-01-14T19:33:08.925Z"
   },
   {
    "duration": 21,
    "start_time": "2025-01-14T19:33:25.019Z"
   },
   {
    "duration": 2771,
    "start_time": "2025-01-14T22:52:53.853Z"
   },
   {
    "duration": 132,
    "start_time": "2025-01-14T22:52:56.626Z"
   },
   {
    "duration": 13,
    "start_time": "2025-01-14T22:52:56.761Z"
   },
   {
    "duration": 21,
    "start_time": "2025-01-14T22:52:56.776Z"
   },
   {
    "duration": 8,
    "start_time": "2025-01-14T22:52:56.798Z"
   },
   {
    "duration": 6,
    "start_time": "2025-01-14T22:52:56.809Z"
   },
   {
    "duration": 8,
    "start_time": "2025-01-14T22:52:56.817Z"
   },
   {
    "duration": 14,
    "start_time": "2025-01-14T22:52:56.827Z"
   },
   {
    "duration": 75,
    "start_time": "2025-01-14T22:52:56.843Z"
   },
   {
    "duration": 47,
    "start_time": "2025-01-14T22:52:56.923Z"
   },
   {
    "duration": 52,
    "start_time": "2025-01-14T22:52:56.971Z"
   },
   {
    "duration": 15,
    "start_time": "2025-01-14T22:52:57.025Z"
   },
   {
    "duration": 6,
    "start_time": "2025-01-14T22:52:57.042Z"
   },
   {
    "duration": 6,
    "start_time": "2025-01-14T22:52:57.050Z"
   },
   {
    "duration": 93,
    "start_time": "2025-01-14T22:52:57.058Z"
   },
   {
    "duration": 35,
    "start_time": "2025-01-14T22:52:57.153Z"
   },
   {
    "duration": 17,
    "start_time": "2025-01-14T22:52:57.189Z"
   },
   {
    "duration": 19,
    "start_time": "2025-01-14T22:52:57.209Z"
   },
   {
    "duration": 24,
    "start_time": "2025-01-14T22:52:57.229Z"
   },
   {
    "duration": 8,
    "start_time": "2025-01-14T22:52:57.257Z"
   },
   {
    "duration": 43,
    "start_time": "2025-01-14T22:52:57.267Z"
   },
   {
    "duration": 4,
    "start_time": "2025-01-14T22:52:57.312Z"
   },
   {
    "duration": 5,
    "start_time": "2025-01-14T22:52:57.318Z"
   },
   {
    "duration": 222,
    "start_time": "2025-01-14T22:52:57.325Z"
   },
   {
    "duration": 17,
    "start_time": "2025-01-14T22:52:57.550Z"
   },
   {
    "duration": 8,
    "start_time": "2025-01-14T22:52:57.570Z"
   },
   {
    "duration": 27,
    "start_time": "2025-01-14T22:52:57.580Z"
   },
   {
    "duration": 24,
    "start_time": "2025-01-14T22:52:57.613Z"
   },
   {
    "duration": 18,
    "start_time": "2025-01-14T22:52:57.640Z"
   },
   {
    "duration": 141,
    "start_time": "2025-01-14T22:52:57.660Z"
   },
   {
    "duration": 44,
    "start_time": "2025-01-14T22:52:57.803Z"
   },
   {
    "duration": 135,
    "start_time": "2025-01-14T22:52:57.849Z"
   },
   {
    "duration": 3,
    "start_time": "2025-01-14T22:52:57.987Z"
   },
   {
    "duration": 71,
    "start_time": "2025-01-14T22:52:57.992Z"
   },
   {
    "duration": 9,
    "start_time": "2025-01-14T22:52:58.065Z"
   },
   {
    "duration": 7,
    "start_time": "2025-01-14T22:52:58.076Z"
   },
   {
    "duration": 8,
    "start_time": "2025-01-14T22:52:58.104Z"
   },
   {
    "duration": 10,
    "start_time": "2025-01-14T22:52:58.115Z"
   },
   {
    "duration": 11,
    "start_time": "2025-01-14T22:52:58.127Z"
   },
   {
    "duration": 32,
    "start_time": "2025-01-14T22:52:58.140Z"
   },
   {
    "duration": 41,
    "start_time": "2025-01-14T22:52:58.174Z"
   },
   {
    "duration": 34,
    "start_time": "2025-01-14T22:52:58.218Z"
   },
   {
    "duration": 5,
    "start_time": "2025-01-14T22:52:58.254Z"
   },
   {
    "duration": 8,
    "start_time": "2025-01-14T22:52:58.261Z"
   },
   {
    "duration": 51,
    "start_time": "2025-01-14T22:52:58.270Z"
   },
   {
    "duration": 30,
    "start_time": "2025-01-14T22:52:58.323Z"
   },
   {
    "duration": 5,
    "start_time": "2025-01-14T22:52:58.356Z"
   },
   {
    "duration": 637,
    "start_time": "2025-01-14T22:52:58.362Z"
   },
   {
    "duration": 0,
    "start_time": "2025-01-14T22:52:59.005Z"
   },
   {
    "duration": 0,
    "start_time": "2025-01-14T22:52:59.007Z"
   },
   {
    "duration": 0,
    "start_time": "2025-01-14T22:52:59.008Z"
   },
   {
    "duration": 0,
    "start_time": "2025-01-14T22:52:59.009Z"
   },
   {
    "duration": 0,
    "start_time": "2025-01-14T22:52:59.010Z"
   },
   {
    "duration": 0,
    "start_time": "2025-01-14T22:52:59.011Z"
   },
   {
    "duration": 23,
    "start_time": "2025-01-14T22:53:10.314Z"
   },
   {
    "duration": 8,
    "start_time": "2025-01-14T22:53:12.172Z"
   },
   {
    "duration": 7,
    "start_time": "2025-01-14T22:59:00.455Z"
   },
   {
    "duration": 28,
    "start_time": "2025-01-14T23:18:44.583Z"
   },
   {
    "duration": 1034,
    "start_time": "2025-01-14T23:27:05.789Z"
   },
   {
    "duration": 263,
    "start_time": "2025-01-14T23:27:06.827Z"
   },
   {
    "duration": 11,
    "start_time": "2025-01-14T23:27:07.092Z"
   },
   {
    "duration": 21,
    "start_time": "2025-01-14T23:27:07.106Z"
   },
   {
    "duration": 4,
    "start_time": "2025-01-14T23:27:07.128Z"
   },
   {
    "duration": 11,
    "start_time": "2025-01-14T23:27:07.134Z"
   },
   {
    "duration": 11,
    "start_time": "2025-01-14T23:27:07.147Z"
   },
   {
    "duration": 23,
    "start_time": "2025-01-14T23:27:07.160Z"
   },
   {
    "duration": 93,
    "start_time": "2025-01-14T23:27:07.185Z"
   },
   {
    "duration": 70,
    "start_time": "2025-01-14T23:27:07.282Z"
   },
   {
    "duration": 93,
    "start_time": "2025-01-14T23:27:07.356Z"
   },
   {
    "duration": 26,
    "start_time": "2025-01-14T23:27:07.450Z"
   },
   {
    "duration": 10,
    "start_time": "2025-01-14T23:27:07.478Z"
   },
   {
    "duration": 6,
    "start_time": "2025-01-14T23:27:07.490Z"
   },
   {
    "duration": 102,
    "start_time": "2025-01-14T23:27:07.499Z"
   },
   {
    "duration": 82,
    "start_time": "2025-01-14T23:27:07.602Z"
   },
   {
    "duration": 7,
    "start_time": "2025-01-14T23:27:07.686Z"
   },
   {
    "duration": 18,
    "start_time": "2025-01-14T23:27:07.695Z"
   },
   {
    "duration": 29,
    "start_time": "2025-01-14T23:27:07.715Z"
   },
   {
    "duration": 10,
    "start_time": "2025-01-14T23:27:07.749Z"
   },
   {
    "duration": 24,
    "start_time": "2025-01-14T23:27:07.767Z"
   },
   {
    "duration": 4,
    "start_time": "2025-01-14T23:27:07.793Z"
   },
   {
    "duration": 4,
    "start_time": "2025-01-14T23:27:07.798Z"
   },
   {
    "duration": 264,
    "start_time": "2025-01-14T23:27:07.804Z"
   },
   {
    "duration": 23,
    "start_time": "2025-01-14T23:27:08.078Z"
   },
   {
    "duration": 25,
    "start_time": "2025-01-14T23:27:08.102Z"
   },
   {
    "duration": 7,
    "start_time": "2025-01-14T23:27:08.129Z"
   },
   {
    "duration": 36,
    "start_time": "2025-01-14T23:27:08.144Z"
   },
   {
    "duration": 29,
    "start_time": "2025-01-14T23:27:08.183Z"
   },
   {
    "duration": 175,
    "start_time": "2025-01-14T23:27:08.216Z"
   },
   {
    "duration": 47,
    "start_time": "2025-01-14T23:27:08.393Z"
   },
   {
    "duration": 193,
    "start_time": "2025-01-14T23:27:08.442Z"
   },
   {
    "duration": 4,
    "start_time": "2025-01-14T23:27:08.637Z"
   },
   {
    "duration": 64,
    "start_time": "2025-01-14T23:27:08.643Z"
   },
   {
    "duration": 10,
    "start_time": "2025-01-14T23:27:08.709Z"
   },
   {
    "duration": 6,
    "start_time": "2025-01-14T23:27:08.721Z"
   },
   {
    "duration": 8,
    "start_time": "2025-01-14T23:27:08.729Z"
   },
   {
    "duration": 7,
    "start_time": "2025-01-14T23:27:08.739Z"
   },
   {
    "duration": 8,
    "start_time": "2025-01-14T23:27:08.748Z"
   },
   {
    "duration": 50,
    "start_time": "2025-01-14T23:27:08.758Z"
   },
   {
    "duration": 21,
    "start_time": "2025-01-14T23:27:08.810Z"
   },
   {
    "duration": 43,
    "start_time": "2025-01-14T23:27:08.833Z"
   },
   {
    "duration": 6,
    "start_time": "2025-01-14T23:27:08.878Z"
   },
   {
    "duration": 4,
    "start_time": "2025-01-14T23:27:08.886Z"
   },
   {
    "duration": 25,
    "start_time": "2025-01-14T23:27:08.906Z"
   },
   {
    "duration": 31,
    "start_time": "2025-01-14T23:27:08.933Z"
   },
   {
    "duration": 34,
    "start_time": "2025-01-14T23:27:08.966Z"
   },
   {
    "duration": 14,
    "start_time": "2025-01-14T23:27:09.002Z"
   },
   {
    "duration": 15,
    "start_time": "2025-01-14T23:27:09.017Z"
   },
   {
    "duration": 790,
    "start_time": "2025-01-14T23:45:10.828Z"
   },
   {
    "duration": 127,
    "start_time": "2025-01-14T23:45:11.620Z"
   },
   {
    "duration": 11,
    "start_time": "2025-01-14T23:45:11.748Z"
   },
   {
    "duration": 16,
    "start_time": "2025-01-14T23:45:12.779Z"
   },
   {
    "duration": 4,
    "start_time": "2025-01-14T23:45:37.446Z"
   },
   {
    "duration": 5,
    "start_time": "2025-01-14T23:45:37.775Z"
   },
   {
    "duration": 6,
    "start_time": "2025-01-14T23:45:39.091Z"
   },
   {
    "duration": 12,
    "start_time": "2025-01-14T23:45:39.659Z"
   },
   {
    "duration": 52,
    "start_time": "2025-01-14T23:45:41.387Z"
   },
   {
    "duration": 46,
    "start_time": "2025-01-14T23:45:41.994Z"
   },
   {
    "duration": 41,
    "start_time": "2025-01-14T23:45:44.330Z"
   },
   {
    "duration": 14,
    "start_time": "2025-01-14T23:45:45.066Z"
   },
   {
    "duration": 7,
    "start_time": "2025-01-14T23:45:55.013Z"
   },
   {
    "duration": 8,
    "start_time": "2025-01-14T23:46:05.203Z"
   },
   {
    "duration": 42,
    "start_time": "2025-01-14T23:46:05.437Z"
   },
   {
    "duration": 30,
    "start_time": "2025-01-14T23:46:05.701Z"
   },
   {
    "duration": 8,
    "start_time": "2025-01-14T23:46:05.929Z"
   },
   {
    "duration": 16,
    "start_time": "2025-01-14T23:46:06.157Z"
   },
   {
    "duration": 16,
    "start_time": "2025-01-14T23:46:13.329Z"
   },
   {
    "duration": 8,
    "start_time": "2025-01-14T23:46:14.566Z"
   },
   {
    "duration": 17,
    "start_time": "2025-01-14T23:46:15.580Z"
   },
   {
    "duration": 4,
    "start_time": "2025-01-14T23:46:18.749Z"
   },
   {
    "duration": 5,
    "start_time": "2025-01-14T23:46:19.300Z"
   },
   {
    "duration": 192,
    "start_time": "2025-01-14T23:46:32.767Z"
   },
   {
    "duration": 16,
    "start_time": "2025-01-14T23:46:44.146Z"
   },
   {
    "duration": 9,
    "start_time": "2025-01-14T23:46:49.987Z"
   },
   {
    "duration": 74,
    "start_time": "2025-01-14T23:46:51.233Z"
   },
   {
    "duration": 23,
    "start_time": "2025-01-14T23:46:53.909Z"
   },
   {
    "duration": 20,
    "start_time": "2025-01-14T23:47:40.143Z"
   },
   {
    "duration": 118,
    "start_time": "2025-01-14T23:47:40.712Z"
   },
   {
    "duration": 39,
    "start_time": "2025-01-14T23:47:42.773Z"
   },
   {
    "duration": 172,
    "start_time": "2025-01-14T23:47:44.251Z"
   },
   {
    "duration": 4,
    "start_time": "2025-01-14T23:47:55.916Z"
   },
   {
    "duration": 50,
    "start_time": "2025-01-14T23:47:56.567Z"
   },
   {
    "duration": 8,
    "start_time": "2025-01-14T23:47:57.299Z"
   },
   {
    "duration": 10,
    "start_time": "2025-01-14T23:47:59.192Z"
   },
   {
    "duration": 7,
    "start_time": "2025-01-14T23:47:59.468Z"
   },
   {
    "duration": 8,
    "start_time": "2025-01-14T23:48:01.367Z"
   },
   {
    "duration": 8,
    "start_time": "2025-01-14T23:48:45.125Z"
   },
   {
    "duration": 25,
    "start_time": "2025-01-14T23:49:56.886Z"
   },
   {
    "duration": 15,
    "start_time": "2025-01-14T23:49:57.542Z"
   },
   {
    "duration": 225,
    "start_time": "2025-01-14T23:50:15.981Z"
   },
   {
    "duration": 13,
    "start_time": "2025-01-14T23:50:18.263Z"
   },
   {
    "duration": 33,
    "start_time": "2025-01-14T23:50:18.637Z"
   },
   {
    "duration": 5,
    "start_time": "2025-01-14T23:50:18.869Z"
   },
   {
    "duration": 5,
    "start_time": "2025-01-14T23:50:20.462Z"
   },
   {
    "duration": 22,
    "start_time": "2025-01-14T23:50:45.708Z"
   },
   {
    "duration": 22,
    "start_time": "2025-01-14T23:50:46.664Z"
   },
   {
    "duration": 22,
    "start_time": "2025-01-14T23:50:47.398Z"
   },
   {
    "duration": 6,
    "start_time": "2025-01-14T23:50:48.670Z"
   },
   {
    "duration": 6,
    "start_time": "2025-01-14T23:50:53.808Z"
   }
  ],
  "kernelspec": {
   "display_name": "Python 3 (ipykernel)",
   "language": "python",
   "name": "python3"
  },
  "language_info": {
   "codemirror_mode": {
    "name": "ipython",
    "version": 3
   },
   "file_extension": ".py",
   "mimetype": "text/x-python",
   "name": "python",
   "nbconvert_exporter": "python",
   "pygments_lexer": "ipython3",
   "version": "3.9.19"
  },
  "toc": {
   "base_numbering": 1,
   "nav_menu": {},
   "number_sections": true,
   "sideBar": true,
   "skip_h1_title": true,
   "title_cell": "Table of Contents",
   "title_sidebar": "Contents",
   "toc_cell": false,
   "toc_position": {},
   "toc_section_display": true,
   "toc_window_display": false
  }
 },
 "nbformat": 4,
 "nbformat_minor": 2
}
